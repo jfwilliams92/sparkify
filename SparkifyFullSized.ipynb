{
 "cells": [
  {
   "cell_type": "markdown",
   "metadata": {},
   "source": [
    "# Udacity Data Science Nano Degree Capstone Project \n",
    "## Sparkify - Predicting Customer Churn\n",
    "\n",
    "This notebook details my work on predicting customer churn for <b> Sparkify</b>, a fictitious music streaming service that offers both free and paid levels. <br>\n",
    "I undertake this project as part of Udacity's Data Science NanoDegree.<p>\n",
    "    \n",
    "The goal of the project is to build a model/models to help Sparkify with their goal of customer retention. In order to accomplish this task, we must be able to determine which users are in danger of cancelling the service and (optionally) which paid users are in danger of downgrading to the free version. <p>\n",
    "    \n",
    "Sparky has provided an extremely rich 12GB dataset that details user actions at the level of each individual action. <br>\n",
    "In this notebook we will examine a subset (128MB) of this dataset using <b> PySpark </b> in order to familiarize ourselves with the data and develop our scripts. <br>\n",
    "Then, we will be prepared to run these scripts on a fully fledged Spark Cluster against the entire dataset. <p>\n",
    "    \n",
    "I have chosen to frame this problem in the context of user sessions - the predictive model(s) would be triggered to generate new predictions after each user session ends, taking into account all user behavior up to that point. <br>\n",
    "Customers in danger of churning (according to the model's predictions) could then be targeted for retention strategy."
   ]
  },
  {
   "cell_type": "code",
   "execution_count": 1,
   "metadata": {},
   "outputs": [
    {
     "data": {
      "application/vnd.jupyter.widget-view+json": {
       "model_id": "99313086192a4c729b4d1b4fb51d2a63",
       "version_major": 2,
       "version_minor": 0
      },
      "text/plain": [
       "VBox()"
      ]
     },
     "metadata": {},
     "output_type": "display_data"
    },
    {
     "name": "stdout",
     "output_type": "stream",
     "text": [
      "Starting Spark application\n"
     ]
    },
    {
     "data": {
      "text/html": [
       "<table>\n",
       "<tr><th>ID</th><th>YARN Application ID</th><th>Kind</th><th>State</th><th>Spark UI</th><th>Driver log</th><th>Current session?</th></tr><tr><td>1</td><td>application_1587474200544_0002</td><td>pyspark</td><td>idle</td><td><a target=\"_blank\" href=\"http://ip-172-31-37-23.us-east-2.compute.internal:20888/proxy/application_1587474200544_0002/\">Link</a></td><td><a target=\"_blank\" href=\"http://ip-172-31-39-58.us-east-2.compute.internal:8042/node/containerlogs/container_1587474200544_0002_01_000001/livy\">Link</a></td><td>✔</td></tr></table>"
      ],
      "text/plain": [
       "<IPython.core.display.HTML object>"
      ]
     },
     "metadata": {},
     "output_type": "display_data"
    },
    {
     "data": {
      "application/vnd.jupyter.widget-view+json": {
       "model_id": "",
       "version_major": 2,
       "version_minor": 0
      },
      "text/plain": [
       "FloatProgress(value=0.0, bar_style='info', description='Progress:', layout=Layout(height='25px', width='50%'),…"
      ]
     },
     "metadata": {},
     "output_type": "display_data"
    },
    {
     "name": "stdout",
     "output_type": "stream",
     "text": [
      "SparkSession available as 'spark'.\n"
     ]
    },
    {
     "data": {
      "application/vnd.jupyter.widget-view+json": {
       "model_id": "",
       "version_major": 2,
       "version_minor": 0
      },
      "text/plain": [
       "FloatProgress(value=0.0, bar_style='info', description='Progress:', layout=Layout(height='25px', width='50%'),…"
      ]
     },
     "metadata": {},
     "output_type": "display_data"
    }
   ],
   "source": [
    "from pyspark.sql import SparkSession"
   ]
  },
  {
   "cell_type": "code",
   "execution_count": 2,
   "metadata": {
    "scrolled": true
   },
   "outputs": [
    {
     "data": {
      "application/vnd.jupyter.widget-view+json": {
       "model_id": "aa82593eb7044df9a7ea69e1f46d7e1f",
       "version_major": 2,
       "version_minor": 0
      },
      "text/plain": [
       "VBox()"
      ]
     },
     "metadata": {},
     "output_type": "display_data"
    },
    {
     "data": {
      "application/vnd.jupyter.widget-view+json": {
       "model_id": "",
       "version_major": 2,
       "version_minor": 0
      },
      "text/plain": [
       "FloatProgress(value=0.0, bar_style='info', description='Progress:', layout=Layout(height='25px', width='50%'),…"
      ]
     },
     "metadata": {},
     "output_type": "display_data"
    },
    {
     "name": "stdout",
     "output_type": "stream",
     "text": [
      "Collecting pandas\n",
      "  Using cached pandas-1.0.3-cp36-cp36m-manylinux1_x86_64.whl (10.0 MB)\n",
      "Collecting python-dateutil>=2.6.1\n",
      "  Using cached python_dateutil-2.8.1-py2.py3-none-any.whl (227 kB)\n",
      "Requirement already satisfied: numpy>=1.13.3 in /usr/local/lib64/python3.6/site-packages (from pandas) (1.14.5)\n",
      "Requirement already satisfied: pytz>=2017.2 in /usr/local/lib/python3.6/site-packages (from pandas) (2019.3)\n",
      "Requirement already satisfied: six>=1.5 in /usr/local/lib/python3.6/site-packages (from python-dateutil>=2.6.1->pandas) (1.13.0)\n",
      "Installing collected packages: python-dateutil, pandas\n",
      "Successfully installed pandas-1.0.3 python-dateutil-2.8.1\n",
      "\n",
      "Processing /mnt/var/lib/livy/.cache/pip/wheels/ee/81/ab/61252f61e63504224d79f0e9d32953c424511e715026206a48/user_agents-2.1-py3-none-any.whl\n",
      "Collecting ua-parser>=0.9.0\n",
      "  Using cached ua_parser-0.10.0-py2.py3-none-any.whl (35 kB)\n",
      "Installing collected packages: ua-parser, user-agents\n",
      "Successfully installed ua-parser-0.10.0 user-agents-2.1\n",
      "\n",
      "Requirement already satisfied: ua-parser in /mnt/tmp/1587480026538-0/lib/python3.6/site-packages (0.10.0)\n",
      "\n",
      "Collecting matplotlib\n",
      "  Using cached matplotlib-3.2.1-cp36-cp36m-manylinux1_x86_64.whl (12.4 MB)\n",
      "Collecting pyparsing!=2.0.4,!=2.1.2,!=2.1.6,>=2.0.1\n",
      "  Using cached pyparsing-2.4.7-py2.py3-none-any.whl (67 kB)\n",
      "Requirement already satisfied: numpy>=1.11 in /usr/local/lib64/python3.6/site-packages (from matplotlib) (1.14.5)\n",
      "Requirement already satisfied: python-dateutil>=2.1 in /mnt/tmp/1587480026538-0/lib/python3.6/site-packages (from matplotlib) (2.8.1)\n",
      "Collecting kiwisolver>=1.0.1\n",
      "  Using cached kiwisolver-1.2.0-cp36-cp36m-manylinux1_x86_64.whl (88 kB)\n",
      "Collecting cycler>=0.10\n",
      "  Using cached cycler-0.10.0-py2.py3-none-any.whl (6.5 kB)\n",
      "Requirement already satisfied: six>=1.5 in /usr/local/lib/python3.6/site-packages (from python-dateutil>=2.1->matplotlib) (1.13.0)\n",
      "Installing collected packages: pyparsing, kiwisolver, cycler, matplotlib\n",
      "Successfully installed cycler-0.10.0 kiwisolver-1.2.0 matplotlib-3.2.1 pyparsing-2.4.7\n",
      "\n",
      "Collecting pyarrow==0.14.1\n",
      "  Using cached pyarrow-0.14.1-cp36-cp36m-manylinux2010_x86_64.whl (58.1 MB)\n",
      "Requirement already satisfied: six>=1.0.0 in /usr/local/lib/python3.6/site-packages (from pyarrow==0.14.1) (1.13.0)\n",
      "Requirement already satisfied: numpy>=1.14 in /usr/local/lib64/python3.6/site-packages (from pyarrow==0.14.1) (1.14.5)\n",
      "Installing collected packages: pyarrow\n",
      "Successfully installed pyarrow-0.14.1\n",
      "\n",
      "Collecting scipy\n",
      "  Using cached scipy-1.4.1-cp36-cp36m-manylinux1_x86_64.whl (26.1 MB)\n",
      "Requirement already satisfied: numpy>=1.13.3 in /usr/local/lib64/python3.6/site-packages (from scipy) (1.14.5)\n",
      "Installing collected packages: scipy\n",
      "Successfully installed scipy-1.4.1"
     ]
    }
   ],
   "source": [
    "sc.install_pypi_package(\"pandas\")\n",
    "sc.install_pypi_package(\"user-agents\")\n",
    "sc.install_pypi_package(\"ua-parser\")\n",
    "sc.install_pypi_package(\"matplotlib\")\n",
    "sc.install_pypi_package(\"pyarrow==0.14.1\")\n",
    "sc.install_pypi_package(\"scipy\")"
   ]
  },
  {
   "cell_type": "code",
   "execution_count": 3,
   "metadata": {},
   "outputs": [
    {
     "data": {
      "application/vnd.jupyter.widget-view+json": {
       "model_id": "f24f28c9bcb24f9fb79faa27dcd037a9",
       "version_major": 2,
       "version_minor": 0
      },
      "text/plain": [
       "VBox()"
      ]
     },
     "metadata": {},
     "output_type": "display_data"
    },
    {
     "data": {
      "application/vnd.jupyter.widget-view+json": {
       "model_id": "",
       "version_major": 2,
       "version_minor": 0
      },
      "text/plain": [
       "FloatProgress(value=0.0, bar_style='info', description='Progress:', layout=Layout(height='25px', width='50%'),…"
      ]
     },
     "metadata": {},
     "output_type": "display_data"
    }
   ],
   "source": [
    "# import libraries\n",
    "import pyspark\n",
    "from pyspark.sql.types import StringType, IntegerType, StructType, StructField, BooleanType\n",
    "from pyspark.sql import Window \n",
    "\n",
    "import pyspark.sql.functions as F\n",
    "from pyspark.sql.functions import udf, desc, asc, concat, col, lit, when\n",
    "\n",
    "from pyspark.ml import Pipeline\n",
    "from pyspark.ml.tuning import CrossValidator, ParamGridBuilder, TrainValidationSplit\n",
    "from pyspark.ml.evaluation import BinaryClassificationEvaluator\n",
    "from pyspark.ml.feature import StringIndexer, OneHotEncoderEstimator\n",
    "from pyspark.ml.feature import VectorIndexer, VectorAssembler, Imputer, StandardScaler\n",
    "from pyspark.ml.classification import RandomForestClassifier, LogisticRegression\n",
    "\n",
    "from user_agents import parse\n",
    "from scipy import stats\n",
    "\n",
    "import datetime\n",
    "import numpy as np\n",
    "import pyarrow\n",
    "import pandas as pd\n",
    "import matplotlib.pyplot as plt"
   ]
  },
  {
   "cell_type": "code",
   "execution_count": 4,
   "metadata": {},
   "outputs": [
    {
     "data": {
      "application/vnd.jupyter.widget-view+json": {
       "model_id": "bca1b14e4542442091126d5a14b3b33b",
       "version_major": 2,
       "version_minor": 0
      },
      "text/plain": [
       "VBox()"
      ]
     },
     "metadata": {},
     "output_type": "display_data"
    },
    {
     "data": {
      "application/vnd.jupyter.widget-view+json": {
       "model_id": "",
       "version_major": 2,
       "version_minor": 0
      },
      "text/plain": [
       "FloatProgress(value=0.0, bar_style='info', description='Progress:', layout=Layout(height='25px', width='50%'),…"
      ]
     },
     "metadata": {},
     "output_type": "display_data"
    }
   ],
   "source": [
    "# Create spark session\n",
    "spark = SparkSession \\\n",
    "    .builder \\\n",
    "    .appName(\"Sparkify\") \\\n",
    "    .config(\"spark.executor.heartbeatInterval\", \"10000s\")\\\n",
    "    .getOrCreate()\n",
    "\n",
    "# Read in full sparkify dataset\n",
    "json_path = \"s3n://udacity-dsnd/sparkify/sparkify_event_data.json\"\n",
    "user_log = spark.read.json(json_path)"
   ]
  },
  {
   "cell_type": "code",
   "execution_count": 5,
   "metadata": {
    "scrolled": false
   },
   "outputs": [
    {
     "data": {
      "application/vnd.jupyter.widget-view+json": {
       "model_id": "0ed3daf4439e4a3098a8bf7ca939e0e1",
       "version_major": 2,
       "version_minor": 0
      },
      "text/plain": [
       "VBox()"
      ]
     },
     "metadata": {},
     "output_type": "display_data"
    },
    {
     "data": {
      "application/vnd.jupyter.widget-view+json": {
       "model_id": "",
       "version_major": 2,
       "version_minor": 0
      },
      "text/plain": [
       "FloatProgress(value=0.0, bar_style='info', description='Progress:', layout=Layout(height='25px', width='50%'),…"
      ]
     },
     "metadata": {},
     "output_type": "display_data"
    },
    {
     "name": "stdout",
     "output_type": "stream",
     "text": [
      "root\n",
      " |-- artist: string (nullable = true)\n",
      " |-- auth: string (nullable = true)\n",
      " |-- firstName: string (nullable = true)\n",
      " |-- gender: string (nullable = true)\n",
      " |-- itemInSession: long (nullable = true)\n",
      " |-- lastName: string (nullable = true)\n",
      " |-- length: double (nullable = true)\n",
      " |-- level: string (nullable = true)\n",
      " |-- location: string (nullable = true)\n",
      " |-- method: string (nullable = true)\n",
      " |-- page: string (nullable = true)\n",
      " |-- registration: long (nullable = true)\n",
      " |-- sessionId: long (nullable = true)\n",
      " |-- song: string (nullable = true)\n",
      " |-- status: long (nullable = true)\n",
      " |-- ts: long (nullable = true)\n",
      " |-- userAgent: string (nullable = true)\n",
      " |-- userId: string (nullable = true)"
     ]
    }
   ],
   "source": [
    "user_log.printSchema()"
   ]
  },
  {
   "cell_type": "markdown",
   "metadata": {},
   "source": [
    "Save the output of some cells in order to not run them every time."
   ]
  },
  {
   "cell_type": "markdown",
   "metadata": {},
   "source": [
    "Input:\n",
    "`user_log.head()`\n",
    "\n",
    "Output:\n",
    "`Row(artist='Popol Vuh', auth='Logged In', firstName='Shlok', gender='M', itemInSession=278, lastName='Johnson', length=524.32934, level='paid', location='Dallas-Fort Worth-Arlington, TX', method='PUT', page='NextSong', registration=1533734541000, sessionId=22683, song='Ich mache einen Spiegel - Dream Part 4', status=200, ts=1538352001000, userAgent='\"Mozilla/5.0 (Windows NT 6.1; WOW64) AppleWebKit/537.36 (KHTML, like Gecko) Chrome/36.0.1985.143 Safari/537.36\"', userId='1749042')`\n"
   ]
  },
  {
   "cell_type": "code",
   "execution_count": 6,
   "metadata": {
    "scrolled": true
   },
   "outputs": [
    {
     "data": {
      "application/vnd.jupyter.widget-view+json": {
       "model_id": "64b3cc0760154304a7e208a28e7de397",
       "version_major": 2,
       "version_minor": 0
      },
      "text/plain": [
       "VBox()"
      ]
     },
     "metadata": {},
     "output_type": "display_data"
    },
    {
     "data": {
      "application/vnd.jupyter.widget-view+json": {
       "model_id": "",
       "version_major": 2,
       "version_minor": 0
      },
      "text/plain": [
       "FloatProgress(value=0.0, bar_style='info', description='Progress:', layout=Layout(height='25px', width='50%'),…"
      ]
     },
     "metadata": {},
     "output_type": "display_data"
    }
   ],
   "source": [
    "# check the shape of the dataframe\n",
    "def check_shape(df):\n",
    "    \"\"\"Print the dimensions of a PySpark DataFrame\"\"\"\n",
    "    print((df.count(), len(df.columns)))\n"
   ]
  },
  {
   "cell_type": "markdown",
   "metadata": {},
   "source": [
    "Input:\n",
    "`check_shape(user_log)`\n",
    "\n",
    "Ouput:\n",
    "`(26259199, 18)`"
   ]
  },
  {
   "cell_type": "markdown",
   "metadata": {},
   "source": [
    "26 million rows!"
   ]
  },
  {
   "cell_type": "code",
   "execution_count": 7,
   "metadata": {},
   "outputs": [
    {
     "data": {
      "application/vnd.jupyter.widget-view+json": {
       "model_id": "048bc5da63e749c49b8bb8be245a07fc",
       "version_major": 2,
       "version_minor": 0
      },
      "text/plain": [
       "VBox()"
      ]
     },
     "metadata": {},
     "output_type": "display_data"
    },
    {
     "data": {
      "application/vnd.jupyter.widget-view+json": {
       "model_id": "",
       "version_major": 2,
       "version_minor": 0
      },
      "text/plain": [
       "FloatProgress(value=0.0, bar_style='info', description='Progress:', layout=Layout(height='25px', width='50%'),…"
      ]
     },
     "metadata": {},
     "output_type": "display_data"
    }
   ],
   "source": [
    "def check_nulls(df):\n",
    "    \"\"\"Count null values in PySpark dataframe.\n",
    "        Args:\n",
    "            df (PySpark DataFrame): data\n",
    "        Returns:\n",
    "            nulls_dict (dict): dictionary of column:num_nulls\n",
    "    \"\"\"\n",
    "    check_nulls = [c[0] for c in df.dtypes if c[1] != 'boolean']\n",
    "    pd_nulls = df\\\n",
    "        .select([F.count(when(col(c).isNull(), c)).alias(c) for c in check_nulls])\\\n",
    "        .toPandas()\\\n",
    "        .T\n",
    "    pd_nulls.columns=[\"num\"]\n",
    "    nulls_dict = pd_nulls.num.to_dict()\n",
    "    \n",
    "    return nulls_dict"
   ]
  },
  {
   "cell_type": "markdown",
   "metadata": {},
   "source": [
    "Input: <br>\n",
    "`nulls = check_nulls(user_log)`"
   ]
  },
  {
   "cell_type": "markdown",
   "metadata": {},
   "source": [
    "`for k, v in nulls.items():\n",
    "    if v > 0:\n",
    "        print(k, v)\n",
    "`"
   ]
  },
  {
   "cell_type": "markdown",
   "metadata": {},
   "source": [
    "Unlike in the test dataset, we have no null userIds. We do have null user information though."
   ]
  },
  {
   "cell_type": "markdown",
   "metadata": {},
   "source": [
    "Input: <br>\n",
    "`user_log\\\n",
    "    .filter('firstName IS NULL')\\\n",
    "    .select('userId', 'firstName')\\\n",
    "    .take(5)`\n",
    "    \n",
    "Output:\n",
    "`[Row(userId='1261737', firstName=None), Row(userId='1261737', firstName=None), Row(userId='1261737', firstName=None), Row(userId='1261737', firstName=None), Row(userId='1261737', firstName=None)]`\n",
    "\n"
   ]
  },
  {
   "cell_type": "markdown",
   "metadata": {},
   "source": [
    "This is all the same userId - let's check how many unique userIds for rows with empty user info"
   ]
  },
  {
   "cell_type": "markdown",
   "metadata": {},
   "source": [
    "Input: <br>\n",
    "`user_log\\\n",
    "    .filter('firstName IS NULL')\\\n",
    "    .select('userId')\\\n",
    "    .dropDuplicates()\\\n",
    "    .count()\n",
    "`\n",
    "\n",
    "Output: `1`"
   ]
  },
  {
   "cell_type": "markdown",
   "metadata": {},
   "source": [
    "On the full dataset, when firstName is NULL, there is only one distinct userId - we will filter where firstName is not null to drop invalid user records."
   ]
  },
  {
   "cell_type": "code",
   "execution_count": 8,
   "metadata": {},
   "outputs": [
    {
     "data": {
      "application/vnd.jupyter.widget-view+json": {
       "model_id": "a17606b5557b4abab348e3478daba17a",
       "version_major": 2,
       "version_minor": 0
      },
      "text/plain": [
       "VBox()"
      ]
     },
     "metadata": {},
     "output_type": "display_data"
    },
    {
     "data": {
      "application/vnd.jupyter.widget-view+json": {
       "model_id": "",
       "version_major": 2,
       "version_minor": 0
      },
      "text/plain": [
       "FloatProgress(value=0.0, bar_style='info', description='Progress:', layout=Layout(height='25px', width='50%'),…"
      ]
     },
     "metadata": {},
     "output_type": "display_data"
    }
   ],
   "source": [
    "df = user_log.filter(\"firstName IS NOT NULL\")"
   ]
  },
  {
   "cell_type": "markdown",
   "metadata": {},
   "source": [
    "Create new sessionId column"
   ]
  },
  {
   "cell_type": "code",
   "execution_count": 9,
   "metadata": {},
   "outputs": [
    {
     "data": {
      "application/vnd.jupyter.widget-view+json": {
       "model_id": "48d6c7516ed74b0a965ed9258689c954",
       "version_major": 2,
       "version_minor": 0
      },
      "text/plain": [
       "VBox()"
      ]
     },
     "metadata": {},
     "output_type": "display_data"
    },
    {
     "data": {
      "application/vnd.jupyter.widget-view+json": {
       "model_id": "",
       "version_major": 2,
       "version_minor": 0
      },
      "text/plain": [
       "FloatProgress(value=0.0, bar_style='info', description='Progress:', layout=Layout(height='25px', width='50%'),…"
      ]
     },
     "metadata": {},
     "output_type": "display_data"
    }
   ],
   "source": [
    "# calculate difference in minutes to next hit for userId.\n",
    "# if next hit is > 30 mins away or null, set 1 for sessionEnd flag\n",
    "# if page is \"logout\", set 1 for sessionEndFlag\n",
    "\n",
    "df = df \\\n",
    "    .withColumn(\"activityDay\", F.to_date(F.from_unixtime(col('ts') / 1000)))\\\n",
    "    .withColumn(\"firstActivityDay\", F.min(col(\"activityDay\")).over(Window.partitionBy(col('userId'))))\\\n",
    "    .withColumn(\"daysSinceFirst\", F.datediff(col(\"activityDay\"), col(\"firstActivityDay\")))\\\n",
    "    .withColumn('nextHit', \n",
    "                F.lead('ts', count=1, default=0)\\\n",
    "                    .over(Window\\\n",
    "                        .partitionBy('userId')\\\n",
    "                        .orderBy('ts')\n",
    "                    )\n",
    "    )\\\n",
    "    .withColumn('nextHitDiffMin',\n",
    "                ((col('nextHit') - col('ts')) / 60 / 1000)\n",
    "    )\\\n",
    "    .withColumn('nextHitDiff',\n",
    "                (col('nextHit') - col('ts'))\n",
    "    )\\\n",
    "    .withColumn('sessionEnd',\n",
    "               F.when((col('nextHit') == 0) |\\\n",
    "                      (col('nextHitDiffMin') > 30) | \\\n",
    "                      (col('page') == 'Logout'), 1)\\\n",
    "                .otherwise(0)\\\n",
    "    )\\\n",
    "    .withColumn('sessionPhase',\n",
    "               F.sum('sessionEnd')\\\n",
    "                    .over(Window\\\n",
    "                         .partitionBy('userId')\\\n",
    "                         .orderBy(F.desc('ts'))\n",
    "                    )\n",
    "    )\\\n",
    "    .withColumn('newSessionId',\n",
    "               F.dense_rank().over(Window.orderBy(*['userId', 'sessionPhase']))\n",
    "    )\\\n",
    "    .withColumn('cancelFlag', F.when((col('page') == 'Cancellation Confirmation'), 1).otherwise(0))\\\n",
    "    .withColumn('cancelPhase',\n",
    "               F.sum('cancelFlag')\\\n",
    "                    .over(Window\\\n",
    "                         .partitionBy('userId')\\\n",
    "                         .orderBy(F.desc('ts'))\n",
    "                    )\n",
    "    )\\\n",
    "    .withColumn('userCancelPhase',\n",
    "               F.dense_rank().over(Window.orderBy(*['userId', 'cancelPhase']))\n",
    "    )\\\n",
    "    .withColumn('newItemInSession',\n",
    "                F.row_number().over(Window\\\n",
    "                                    .partitionBy('newSessionId')\\\n",
    "                                    .orderBy('ts'))\n",
    "    )\\\n",
    "    .drop('itemInSession', 'sessionId')\\\n",
    "    .withColumn(\"songSkip\", \\\n",
    "                F.when((col('page') == 'NextSong') &\\\n",
    "                       ((col('length') - (col('nextHitDiff') / 1000)) >= 30) &\\\n",
    "                       (col('nextHit') != 0), 1).otherwise(0))"
   ]
  },
  {
   "cell_type": "code",
   "execution_count": 10,
   "metadata": {},
   "outputs": [
    {
     "data": {
      "application/vnd.jupyter.widget-view+json": {
       "model_id": "b157ab7df4f644eba3f22588ef12b859",
       "version_major": 2,
       "version_minor": 0
      },
      "text/plain": [
       "VBox()"
      ]
     },
     "metadata": {},
     "output_type": "display_data"
    },
    {
     "data": {
      "application/vnd.jupyter.widget-view+json": {
       "model_id": "",
       "version_major": 2,
       "version_minor": 0
      },
      "text/plain": [
       "FloatProgress(value=0.0, bar_style='info', description='Progress:', layout=Layout(height='25px', width='50%'),…"
      ]
     },
     "metadata": {},
     "output_type": "display_data"
    },
    {
     "name": "stdout",
     "output_type": "stream",
     "text": [
      "DataFrame[artist: string, auth: string, firstName: string, gender: string, lastName: string, length: double, level: string, location: string, method: string, page: string, registration: bigint, song: string, status: bigint, ts: bigint, userAgent: string, userId: string, activityDay: date, firstActivityDay: date, daysSinceFirst: int, nextHit: bigint, nextHitDiffMin: double, nextHitDiff: bigint, sessionEnd: int, sessionPhase: bigint, newSessionId: int, cancelFlag: int, cancelPhase: bigint, userCancelPhase: int, newItemInSession: int, songSkip: int]"
     ]
    }
   ],
   "source": [
    "# repartition to make aggregation easier - puts all records with \n",
    "# the same value for the partition key into the same partition\n",
    "df.repartition('newSessionId')"
   ]
  },
  {
   "cell_type": "code",
   "execution_count": 11,
   "metadata": {},
   "outputs": [
    {
     "data": {
      "application/vnd.jupyter.widget-view+json": {
       "model_id": "4b15216ea64848bfb20dda6a27a33cae",
       "version_major": 2,
       "version_minor": 0
      },
      "text/plain": [
       "VBox()"
      ]
     },
     "metadata": {},
     "output_type": "display_data"
    },
    {
     "data": {
      "application/vnd.jupyter.widget-view+json": {
       "model_id": "",
       "version_major": 2,
       "version_minor": 0
      },
      "text/plain": [
       "FloatProgress(value=0.0, bar_style='info', description='Progress:', layout=Layout(height='25px', width='50%'),…"
      ]
     },
     "metadata": {},
     "output_type": "display_data"
    },
    {
     "name": "stdout",
     "output_type": "stream",
     "text": [
      "DataFrame[artist: string, auth: string, firstName: string, gender: string, lastName: string, length: double, level: string, location: string, method: string, page: string, registration: bigint, song: string, status: bigint, ts: bigint, userAgent: string, userId: string, activityDay: date, firstActivityDay: date, daysSinceFirst: int, nextHit: bigint, nextHitDiffMin: double, nextHitDiff: bigint, sessionEnd: int, sessionPhase: bigint, newSessionId: int, cancelFlag: int, cancelPhase: bigint, userCancelPhase: int, newItemInSession: int, songSkip: int]"
     ]
    }
   ],
   "source": [
    "df.persist(pyspark.StorageLevel.MEMORY_AND_DISK)"
   ]
  },
  {
   "cell_type": "code",
   "execution_count": 12,
   "metadata": {},
   "outputs": [
    {
     "data": {
      "application/vnd.jupyter.widget-view+json": {
       "model_id": "71a7062e68814221b6f1d62bf4bb0c6e",
       "version_major": 2,
       "version_minor": 0
      },
      "text/plain": [
       "VBox()"
      ]
     },
     "metadata": {},
     "output_type": "display_data"
    },
    {
     "data": {
      "application/vnd.jupyter.widget-view+json": {
       "model_id": "",
       "version_major": 2,
       "version_minor": 0
      },
      "text/plain": [
       "FloatProgress(value=0.0, bar_style='info', description='Progress:', layout=Layout(height='25px', width='50%'),…"
      ]
     },
     "metadata": {},
     "output_type": "display_data"
    },
    {
     "name": "stdout",
     "output_type": "stream",
     "text": [
      "[Row(artist=None, auth='Logged In', firstName='Camren', gender='M', lastName='Walker', length=None, level='paid', location='New Haven-Milford, CT', method='GET', page='Home', registration=1531215008000, song=None, status=200, ts=1539882499000, userAgent='\"Mozilla/5.0 (Windows NT 6.1; WOW64) AppleWebKit/537.36 (KHTML, like Gecko) Chrome/36.0.1985.143 Safari/537.36\"', userId='1000025', activityDay=datetime.date(2018, 10, 18), firstActivityDay=datetime.date(2018, 10, 2), daysSinceFirst=16, nextHit=1539882591000, nextHitDiffMin=1.5333333333333332, nextHitDiff=92000, sessionEnd=0, sessionPhase=1, newSessionId=1, cancelFlag=0, cancelPhase=1, userCancelPhase=1, newItemInSession=1, songSkip=0)]"
     ]
    }
   ],
   "source": [
    "df.take(1)"
   ]
  },
  {
   "cell_type": "code",
   "execution_count": 13,
   "metadata": {},
   "outputs": [
    {
     "data": {
      "application/vnd.jupyter.widget-view+json": {
       "model_id": "e1ad94aa83ac4bc29b9b95c98c6bf87f",
       "version_major": 2,
       "version_minor": 0
      },
      "text/plain": [
       "VBox()"
      ]
     },
     "metadata": {},
     "output_type": "display_data"
    },
    {
     "data": {
      "application/vnd.jupyter.widget-view+json": {
       "model_id": "",
       "version_major": 2,
       "version_minor": 0
      },
      "text/plain": [
       "FloatProgress(value=0.0, bar_style='info', description='Progress:', layout=Layout(height='25px', width='50%'),…"
      ]
     },
     "metadata": {},
     "output_type": "display_data"
    },
    {
     "name": "stdout",
     "output_type": "stream",
     "text": [
      "root\n",
      " |-- artist: string (nullable = true)\n",
      " |-- auth: string (nullable = true)\n",
      " |-- firstName: string (nullable = true)\n",
      " |-- gender: string (nullable = true)\n",
      " |-- lastName: string (nullable = true)\n",
      " |-- length: double (nullable = true)\n",
      " |-- level: string (nullable = true)\n",
      " |-- location: string (nullable = true)\n",
      " |-- method: string (nullable = true)\n",
      " |-- page: string (nullable = true)\n",
      " |-- registration: long (nullable = true)\n",
      " |-- song: string (nullable = true)\n",
      " |-- status: long (nullable = true)\n",
      " |-- ts: long (nullable = true)\n",
      " |-- userAgent: string (nullable = true)\n",
      " |-- userId: string (nullable = true)\n",
      " |-- activityDay: date (nullable = true)\n",
      " |-- firstActivityDay: date (nullable = true)\n",
      " |-- daysSinceFirst: integer (nullable = true)\n",
      " |-- nextHit: long (nullable = true)\n",
      " |-- nextHitDiffMin: double (nullable = true)\n",
      " |-- nextHitDiff: long (nullable = true)\n",
      " |-- sessionEnd: integer (nullable = false)\n",
      " |-- sessionPhase: long (nullable = true)\n",
      " |-- newSessionId: integer (nullable = true)\n",
      " |-- cancelFlag: integer (nullable = false)\n",
      " |-- cancelPhase: long (nullable = true)\n",
      " |-- userCancelPhase: integer (nullable = true)\n",
      " |-- newItemInSession: integer (nullable = true)\n",
      " |-- songSkip: integer (nullable = false)"
     ]
    }
   ],
   "source": [
    "df.printSchema()"
   ]
  },
  {
   "cell_type": "markdown",
   "metadata": {},
   "source": [
    "Check for and remove outliers"
   ]
  },
  {
   "cell_type": "code",
   "execution_count": 14,
   "metadata": {},
   "outputs": [
    {
     "data": {
      "application/vnd.jupyter.widget-view+json": {
       "model_id": "4e57106561dc4922ad4da8a342cfa9fb",
       "version_major": 2,
       "version_minor": 0
      },
      "text/plain": [
       "VBox()"
      ]
     },
     "metadata": {},
     "output_type": "display_data"
    },
    {
     "data": {
      "application/vnd.jupyter.widget-view+json": {
       "model_id": "",
       "version_major": 2,
       "version_minor": 0
      },
      "text/plain": [
       "FloatProgress(value=0.0, bar_style='info', description='Progress:', layout=Layout(height='25px', width='50%'),…"
      ]
     },
     "metadata": {},
     "output_type": "display_data"
    }
   ],
   "source": [
    "new_session_examine = df\\\n",
    "    .groupby(\"newSessionId\", \"userId\")\\\n",
    "    .agg(\n",
    "        F.max(\"newItemInSession\").alias(\"itemsInSession\"), \n",
    "        F.min(\"ts\").alias(\"firstHit\"),\n",
    "        F.max(\"ts\").alias(\"lastHit\")\n",
    "    )\\\n",
    "    .withColumn(\"sessionLengthMinutes\", (col(\"lastHit\") - col(\"firstHit\")) / 1000 / 60)\\\n",
    "    .drop(\"firstHit\", \"lastHit\")\\\n",
    "    .toPandas()"
   ]
  },
  {
   "cell_type": "code",
   "execution_count": 15,
   "metadata": {},
   "outputs": [
    {
     "data": {
      "application/vnd.jupyter.widget-view+json": {
       "model_id": "a92789de46c94c46bf55e677b1126c0e",
       "version_major": 2,
       "version_minor": 0
      },
      "text/plain": [
       "VBox()"
      ]
     },
     "metadata": {},
     "output_type": "display_data"
    },
    {
     "data": {
      "application/vnd.jupyter.widget-view+json": {
       "model_id": "",
       "version_major": 2,
       "version_minor": 0
      },
      "text/plain": [
       "FloatProgress(value=0.0, bar_style='info', description='Progress:', layout=Layout(height='25px', width='50%'),…"
      ]
     },
     "metadata": {},
     "output_type": "display_data"
    },
    {
     "name": "stdout",
     "output_type": "stream",
     "text": [
      "     newSessionId   userId  itemsInSession  sessionLengthMinutes\n",
      "184           185  1000214             287           1000.366667\n",
      "260           261  1000248             326           1143.316667\n",
      "320           321  1000407             374           1311.650000\n",
      "379           380  1000409             394           1402.000000\n",
      "466           467  1000625             269            937.050000"
     ]
    }
   ],
   "source": [
    "z_scores = np.abs(stats.zscore(new_session_examine.sessionLengthMinutes))\n",
    "valid_mask = (z_scores < 4) \n",
    "invalid_sessions = new_session_examine.loc[~valid_mask]\n",
    "invalid_sessions.head()"
   ]
  },
  {
   "cell_type": "code",
   "execution_count": 16,
   "metadata": {},
   "outputs": [
    {
     "data": {
      "application/vnd.jupyter.widget-view+json": {
       "model_id": "d94d3572d9914e93ac0a946c3ff7d4ee",
       "version_major": 2,
       "version_minor": 0
      },
      "text/plain": [
       "VBox()"
      ]
     },
     "metadata": {},
     "output_type": "display_data"
    },
    {
     "data": {
      "application/vnd.jupyter.widget-view+json": {
       "model_id": "",
       "version_major": 2,
       "version_minor": 0
      },
      "text/plain": [
       "FloatProgress(value=0.0, bar_style='info', description='Progress:', layout=Layout(height='25px', width='50%'),…"
      ]
     },
     "metadata": {},
     "output_type": "display_data"
    },
    {
     "name": "stdout",
     "output_type": "stream",
     "text": [
      "0.9916259166494993"
     ]
    }
   ],
   "source": [
    "valid_mask.mean()"
   ]
  },
  {
   "cell_type": "code",
   "execution_count": 17,
   "metadata": {},
   "outputs": [
    {
     "data": {
      "application/vnd.jupyter.widget-view+json": {
       "model_id": "bbff0e3af8ed4c0fa0ce6553893a1eaa",
       "version_major": 2,
       "version_minor": 0
      },
      "text/plain": [
       "VBox()"
      ]
     },
     "metadata": {},
     "output_type": "display_data"
    },
    {
     "data": {
      "application/vnd.jupyter.widget-view+json": {
       "model_id": "",
       "version_major": 2,
       "version_minor": 0
      },
      "text/plain": [
       "FloatProgress(value=0.0, bar_style='info', description='Progress:', layout=Layout(height='25px', width='50%'),…"
      ]
     },
     "metadata": {},
     "output_type": "display_data"
    },
    {
     "name": "stdout",
     "output_type": "stream",
     "text": [
      "        newSessionId  itemsInSession  sessionLengthMinutes\n",
      "count    4634.000000     4634.000000           4634.000000\n",
      "mean   274829.231334      300.600993           1083.150824\n",
      "std    159860.572121       58.365331            206.722924\n",
      "min       185.000000      182.000000            877.850000\n",
      "25%    138112.750000      261.000000            934.237500\n",
      "50%    274120.000000      284.000000           1019.225000\n",
      "75%    412653.750000      322.000000           1162.762500\n",
      "max    553094.000000      724.000000           2663.983333"
     ]
    }
   ],
   "source": [
    "invalid_sessions.describe()"
   ]
  },
  {
   "cell_type": "code",
   "execution_count": 18,
   "metadata": {},
   "outputs": [
    {
     "data": {
      "application/vnd.jupyter.widget-view+json": {
       "model_id": "b1d99b3077ae4468a61874185e7492fd",
       "version_major": 2,
       "version_minor": 0
      },
      "text/plain": [
       "VBox()"
      ]
     },
     "metadata": {},
     "output_type": "display_data"
    },
    {
     "data": {
      "application/vnd.jupyter.widget-view+json": {
       "model_id": "",
       "version_major": 2,
       "version_minor": 0
      },
      "text/plain": [
       "FloatProgress(value=0.0, bar_style='info', description='Progress:', layout=Layout(height='25px', width='50%'),…"
      ]
     },
     "metadata": {},
     "output_type": "display_data"
    },
    {
     "name": "stdout",
     "output_type": "stream",
     "text": [
      "        newSessionId  itemsInSession  sessionLengthMinutes\n",
      "count  553374.000000   553374.000000         553374.000000\n",
      "mean   276687.500000       46.046110            156.277511\n",
      "std    159745.458269       50.176928            180.387061\n",
      "min         1.000000        1.000000              0.000000\n",
      "25%    138344.250000       12.000000             34.033333\n",
      "50%    276687.500000       30.000000             96.583333\n",
      "75%    415030.750000       62.000000            213.266667\n",
      "max    553374.000000      724.000000           2663.983333"
     ]
    }
   ],
   "source": [
    "new_session_examine.describe()"
   ]
  },
  {
   "cell_type": "code",
   "execution_count": 19,
   "metadata": {},
   "outputs": [
    {
     "data": {
      "application/vnd.jupyter.widget-view+json": {
       "model_id": "88dfffbd8c654092832e96e4ee6c68a2",
       "version_major": 2,
       "version_minor": 0
      },
      "text/plain": [
       "VBox()"
      ]
     },
     "metadata": {},
     "output_type": "display_data"
    },
    {
     "data": {
      "application/vnd.jupyter.widget-view+json": {
       "model_id": "",
       "version_major": 2,
       "version_minor": 0
      },
      "text/plain": [
       "FloatProgress(value=0.0, bar_style='info', description='Progress:', layout=Layout(height='25px', width='50%'),…"
      ]
     },
     "metadata": {},
     "output_type": "display_data"
    }
   ],
   "source": [
    "invalid_sprk = spark.createDataFrame(invalid_sessions)\n",
    "invalid_sprk = invalid_sprk.select('newSessionId')"
   ]
  },
  {
   "cell_type": "code",
   "execution_count": 20,
   "metadata": {},
   "outputs": [
    {
     "data": {
      "application/vnd.jupyter.widget-view+json": {
       "model_id": "c61083e16147404ab6d765454f16dd3f",
       "version_major": 2,
       "version_minor": 0
      },
      "text/plain": [
       "VBox()"
      ]
     },
     "metadata": {},
     "output_type": "display_data"
    },
    {
     "data": {
      "application/vnd.jupyter.widget-view+json": {
       "model_id": "",
       "version_major": 2,
       "version_minor": 0
      },
      "text/plain": [
       "FloatProgress(value=0.0, bar_style='info', description='Progress:', layout=Layout(height='25px', width='50%'),…"
      ]
     },
     "metadata": {},
     "output_type": "display_data"
    }
   ],
   "source": [
    "df = df\\\n",
    "    .join(invalid_sprk, how='left_anti', on='newSessionId')"
   ]
  },
  {
   "cell_type": "code",
   "execution_count": 21,
   "metadata": {},
   "outputs": [
    {
     "data": {
      "application/vnd.jupyter.widget-view+json": {
       "model_id": "1846bc0e1a1243afb249c80e664b4600",
       "version_major": 2,
       "version_minor": 0
      },
      "text/plain": [
       "VBox()"
      ]
     },
     "metadata": {},
     "output_type": "display_data"
    },
    {
     "data": {
      "application/vnd.jupyter.widget-view+json": {
       "model_id": "",
       "version_major": 2,
       "version_minor": 0
      },
      "text/plain": [
       "FloatProgress(value=0.0, bar_style='info', description='Progress:', layout=Layout(height='25px', width='50%'),…"
      ]
     },
     "metadata": {},
     "output_type": "display_data"
    },
    {
     "name": "stdout",
     "output_type": "stream",
     "text": [
      "DataFrame[newSessionId: int, artist: string, auth: string, firstName: string, gender: string, lastName: string, length: double, level: string, location: string, method: string, page: string, registration: bigint, song: string, status: bigint, ts: bigint, userAgent: string, userId: string, activityDay: date, firstActivityDay: date, daysSinceFirst: int, nextHit: bigint, nextHitDiffMin: double, nextHitDiff: bigint, sessionEnd: int, sessionPhase: bigint, cancelFlag: int, cancelPhase: bigint, userCancelPhase: int, newItemInSession: int, songSkip: int]"
     ]
    }
   ],
   "source": [
    "df.persist(pyspark.StorageLevel.MEMORY_AND_DISK)"
   ]
  },
  {
   "cell_type": "code",
   "execution_count": 22,
   "metadata": {},
   "outputs": [
    {
     "data": {
      "application/vnd.jupyter.widget-view+json": {
       "model_id": "d31b97cc6df54fcb8a84fe62142abf38",
       "version_major": 2,
       "version_minor": 0
      },
      "text/plain": [
       "VBox()"
      ]
     },
     "metadata": {},
     "output_type": "display_data"
    },
    {
     "data": {
      "application/vnd.jupyter.widget-view+json": {
       "model_id": "",
       "version_major": 2,
       "version_minor": 0
      },
      "text/plain": [
       "FloatProgress(value=0.0, bar_style='info', description='Progress:', layout=Layout(height='25px', width='50%'),…"
      ]
     },
     "metadata": {},
     "output_type": "display_data"
    },
    {
     "name": "stdout",
     "output_type": "stream",
     "text": [
      "[Row(newSessionId=26, artist=None, auth='Logged In', firstName='Camren', gender='M', lastName='Walker', length=None, level='paid', location='New Haven-Milford, CT', method='GET', page='Home', registration=1531215008000, song=None, status=200, ts=1539127622000, userAgent='\"Mozilla/5.0 (Windows NT 6.1; WOW64) AppleWebKit/537.36 (KHTML, like Gecko) Chrome/36.0.1985.143 Safari/537.36\"', userId='1000025', activityDay=datetime.date(2018, 10, 9), firstActivityDay=datetime.date(2018, 10, 2), daysSinceFirst=7, nextHit=1539127651000, nextHitDiffMin=0.48333333333333334, nextHitDiff=29000, sessionEnd=0, sessionPhase=26, cancelFlag=0, cancelPhase=1, userCancelPhase=1, newItemInSession=1, songSkip=0)]"
     ]
    }
   ],
   "source": [
    "df.take(1)"
   ]
  },
  {
   "cell_type": "code",
   "execution_count": 23,
   "metadata": {},
   "outputs": [
    {
     "data": {
      "application/vnd.jupyter.widget-view+json": {
       "model_id": "50618c3244c24449a0074075edb1f88f",
       "version_major": 2,
       "version_minor": 0
      },
      "text/plain": [
       "VBox()"
      ]
     },
     "metadata": {},
     "output_type": "display_data"
    },
    {
     "data": {
      "application/vnd.jupyter.widget-view+json": {
       "model_id": "",
       "version_major": 2,
       "version_minor": 0
      },
      "text/plain": [
       "FloatProgress(value=0.0, bar_style='info', description='Progress:', layout=Layout(height='25px', width='50%'),…"
      ]
     },
     "metadata": {},
     "output_type": "display_data"
    },
    {
     "name": "stdout",
     "output_type": "stream",
     "text": [
      "200"
     ]
    }
   ],
   "source": [
    "print(df.rdd.getNumPartitions())"
   ]
  },
  {
   "cell_type": "markdown",
   "metadata": {},
   "source": [
    "#### Define churn and aggregate to user"
   ]
  },
  {
   "cell_type": "code",
   "execution_count": 24,
   "metadata": {},
   "outputs": [
    {
     "data": {
      "application/vnd.jupyter.widget-view+json": {
       "model_id": "a2c573ab2f454aa290878a74eae4ff86",
       "version_major": 2,
       "version_minor": 0
      },
      "text/plain": [
       "VBox()"
      ]
     },
     "metadata": {},
     "output_type": "display_data"
    },
    {
     "data": {
      "application/vnd.jupyter.widget-view+json": {
       "model_id": "",
       "version_major": 2,
       "version_minor": 0
      },
      "text/plain": [
       "FloatProgress(value=0.0, bar_style='info', description='Progress:', layout=Layout(height='25px', width='50%'),…"
      ]
     },
     "metadata": {},
     "output_type": "display_data"
    }
   ],
   "source": [
    "cancellers = df\\\n",
    "    .groupby('userId', 'userCancelPhase')\\\n",
    "    .agg(F.max(col('cancelFlag')).alias('cancelFlag'))"
   ]
  },
  {
   "cell_type": "code",
   "execution_count": 25,
   "metadata": {},
   "outputs": [
    {
     "data": {
      "application/vnd.jupyter.widget-view+json": {
       "model_id": "34b68fb23fe94b9ab152c816b5377841",
       "version_major": 2,
       "version_minor": 0
      },
      "text/plain": [
       "VBox()"
      ]
     },
     "metadata": {},
     "output_type": "display_data"
    },
    {
     "data": {
      "application/vnd.jupyter.widget-view+json": {
       "model_id": "",
       "version_major": 2,
       "version_minor": 0
      },
      "text/plain": [
       "FloatProgress(value=0.0, bar_style='info', description='Progress:', layout=Layout(height='25px', width='50%'),…"
      ]
     },
     "metadata": {},
     "output_type": "display_data"
    },
    {
     "name": "stdout",
     "output_type": "stream",
     "text": [
      "+-------+---------------+----------+\n",
      "| userId|userCancelPhase|cancelFlag|\n",
      "+-------+---------------+----------+\n",
      "|1082829|           1847|         1|\n",
      "|1085268|           1905|         0|\n",
      "|1140963|           3139|         1|\n",
      "|1155727|           3476|         0|\n",
      "|1160560|           3592|         0|\n",
      "|1238435|           5451|         1|\n",
      "|1478842|          10693|         0|\n",
      "|1612184|          13592|         0|\n",
      "|1732870|          16361|         1|\n",
      "|1759123|          16986|         1|\n",
      "|1022020|            527|         0|\n",
      "|1068533|           1542|         0|\n",
      "|1140717|           3135|         0|\n",
      "|1517931|          11533|         0|\n",
      "|1547803|          12169|         0|\n",
      "|1568489|          12621|         0|\n",
      "|1647434|          14369|         0|\n",
      "|1672693|          14972|         0|\n",
      "|1677903|          15076|         0|\n",
      "|1799099|          17892|         0|\n",
      "+-------+---------------+----------+\n",
      "only showing top 20 rows"
     ]
    }
   ],
   "source": [
    "cancellers.persist()\n",
    "cancellers.show()"
   ]
  },
  {
   "cell_type": "code",
   "execution_count": 26,
   "metadata": {},
   "outputs": [
    {
     "data": {
      "application/vnd.jupyter.widget-view+json": {
       "model_id": "e8b8d0cdf8224dbdaaa3318176f0ef68",
       "version_major": 2,
       "version_minor": 0
      },
      "text/plain": [
       "VBox()"
      ]
     },
     "metadata": {},
     "output_type": "display_data"
    },
    {
     "data": {
      "application/vnd.jupyter.widget-view+json": {
       "model_id": "",
       "version_major": 2,
       "version_minor": 0
      },
      "text/plain": [
       "FloatProgress(value=0.0, bar_style='info', description='Progress:', layout=Layout(height='25px', width='50%'),…"
      ]
     },
     "metadata": {},
     "output_type": "display_data"
    }
   ],
   "source": [
    "user_agg = df\\\n",
    "    .groupby(\"userId\", \"userCancelPhase\")\\\n",
    "    .agg(F.first(col('registration')).alias('registration'),\n",
    "         F.min(col('ts')).alias(\"observationStart\"), \n",
    "         F.max(col('ts')).alias(\"observationEnd\"),\n",
    "         F.count(col('ts')).alias('activityCount'),\n",
    "         F.sum(F.when(col(\"page\") == \"NextSong\", 1).otherwise(0)).alias(\"songsListened\"),\n",
    "         F.sum(F.when(col(\"page\") == \"Add to Playlist\", 1).otherwise(0)).alias(\"songsAdded\"),\n",
    "         F.sum(col('songSkip')).alias('songsSkipped'),\n",
    "         F.approxCountDistinct(col('artist')).alias('numUniqueArtists'),\n",
    "         F.approxCountDistinct(col('song')).alias('numUniqueSongs'),\n",
    "         F.sum(F.when(col(\"page\") == \"Add Friend\", 1).otherwise(0)).alias(\"friendsAdded\"),\n",
    "         F.sum(F.when(col(\"page\") == \"Thumbs Up\", 1).otherwise(0)).alias(\"thumbsUp\"),\n",
    "         F.sum(F.when(col(\"page\") == \"Thumbs Down\", 1).otherwise(0)).alias(\"thumbsDown\"),\n",
    "         F.sum(F.when(col(\"page\") == \"Error\", 1).otherwise(0)).alias(\"errors\"),\n",
    "         F.sum(F.when(col(\"page\") == \"Help\", 1).otherwise(0)).alias(\"helpVisits\"),\n",
    "         F.sum(F.when(col(\"page\") == \"Submit Upgrade\", 1).otherwise(0)).alias(\"numUpgrades\"),\n",
    "         F.sum(F.when(col(\"page\") == \"Submit Downgrade\", 1).otherwise(0)).alias(\"numDowngrades\"),\n",
    "         F.sum(F.when(col(\"page\") == \"Roll Advert\", 1).otherwise(0)).alias(\"advertsPlayed\"),\n",
    "         F.approxCountDistinct(col('newSessionId')).alias('numSessions'),\n",
    "         F.first(col('level')).alias(\"levelAtStart\"),\n",
    "         F.last(col('level')).alias(\"levelAtEnd\"),\n",
    "         F.first(col('auth')).alias(\"authAtStart\"),\n",
    "         F.last(col('auth')).alias(\"authAtEnd\"),\n",
    "         F.first(col('location')).alias('location'),\n",
    "         F.first(col('gender')).alias(\"gender\"),\n",
    "         F.first(col('userAgent')).alias('userAgent')\n",
    "        )\\\n",
    "    .withColumn(\"observedHours\", F.ceil((col('observationEnd') - col(\"observationStart\")) / 1000 / 60 / 60))\\\n",
    "    .withColumn(\"observedDays\", F.ceil(col(\"observedHours\") / 24))\\\n",
    "    .withColumn(\"songsPerDay\", col(\"songsListened\") / col(\"observedDays\"))\\\n",
    "    .withColumn(\"uniqueArtistsPerDay\", col(\"numUniqueArtists\") / col(\"observedDays\"))\\\n",
    "    .withColumn(\"skippedSongRatio\", col(\"songsSkipped\") / col(\"songsListened\"))\\\n",
    "    .withColumn(\"uniqueSongRatio\", col(\"numUniqueSongs\") / col(\"songsListened\"))\\\n",
    "    .withColumn(\"songToActivityRatio\", col(\"songsListened\") / col(\"activityCount\"))\\\n",
    "    .withColumn(\"songsAddedPerDay\", col(\"songsAdded\") / col(\"observedDays\"))\\\n",
    "    .withColumn(\"friendsAddedPerDay\", col(\"friendsAdded\") / col(\"observedDays\"))\\\n",
    "    .withColumn(\"thumbsUpPerDay\", col(\"thumbsUp\") / col(\"observedDays\"))\\\n",
    "    .withColumn(\"thumbsDownPerDay\", col(\"thumbsDown\") / col(\"observedDays\"))\\\n",
    "    .withColumn(\"thumbsDownRatio\", col(\"thumbsDown\") / (col(\"thumbsDown\") + col(\"thumbsUp\")))\\\n",
    "    .withColumn(\"errorsPerDay\", col(\"errors\") / col(\"observedDays\"))\\\n",
    "    .withColumn(\"helpVisitsPerDay\", col(\"helpVisits\") / col(\"observedDays\"))\\\n",
    "    .withColumn(\"advertsPerDay\", col(\"advertsPlayed\") / col(\"observedDays\"))\\\n",
    "    .withColumn(\"sessionsPerDay\", col(\"numSessions\") / col(\"observedDays\"))\\\n",
    "    .withColumn('metroArea', F.split(col('location'), ', ').getItem(0))\\\n",
    "    .withColumn('state', F.split(col('location'), ', ').getItem(1))\\\n",
    "    .join(cancellers, on=['userId', 'userCancelPhase'])\\\n",
    "    .select(\n",
    "        'userId',\n",
    "        'numUpgrades',\n",
    "        'numDowngrades',\n",
    "        'levelAtStart',\n",
    "        'gender',\n",
    "        'userAgent',\n",
    "        'songsPerDay',\n",
    "        'uniqueArtistsPerDay',\n",
    "        'skippedSongRatio',\n",
    "        'songToActivityRatio',\n",
    "        'uniqueSongRatio',\n",
    "        'songsAddedPerDay',\n",
    "        'friendsAddedPerDay',\n",
    "        'thumbsUpPerDay',\n",
    "        'thumbsDownPerDay',\n",
    "        'thumbsDownRatio',\n",
    "        'errorsPerDay',\n",
    "        'helpVisitsPerDay',\n",
    "        'advertsPerDay',\n",
    "        'sessionsPerDay',\n",
    "        'metroArea',\n",
    "        'state',\n",
    "        'cancelFlag'\n",
    "    )"
   ]
  },
  {
   "cell_type": "code",
   "execution_count": 27,
   "metadata": {},
   "outputs": [
    {
     "data": {
      "application/vnd.jupyter.widget-view+json": {
       "model_id": "a840f3bb45a94a89b6973878ce8202db",
       "version_major": 2,
       "version_minor": 0
      },
      "text/plain": [
       "VBox()"
      ]
     },
     "metadata": {},
     "output_type": "display_data"
    },
    {
     "data": {
      "application/vnd.jupyter.widget-view+json": {
       "model_id": "",
       "version_major": 2,
       "version_minor": 0
      },
      "text/plain": [
       "FloatProgress(value=0.0, bar_style='info', description='Progress:', layout=Layout(height='25px', width='50%'),…"
      ]
     },
     "metadata": {},
     "output_type": "display_data"
    }
   ],
   "source": [
    "# source: https://medium.com/@mahadir.ahmad/how-to-parse-billion-of-user-agents-using-pyspark-f57e680727e7\n",
    "\n",
    "# Define our function that returns parsed user agent according to UDF schema\n",
    "\n",
    "# from user_agents\n",
    "def parse_ua(ua_string):\n",
    "    # parse library cannot parse None\n",
    "    if ua_string is None:\n",
    "        ua_string = \"\"\n",
    "\n",
    "    parsed_string = parse(ua_string)\n",
    "\n",
    "    output =  [\n",
    "        parsed_string.device.model,\n",
    "        parsed_string.os.family,\n",
    "        parsed_string.browser.family,\n",
    "        (parsed_string.is_mobile or parsed_string.is_tablet),\n",
    "        ]\n",
    "    # If any of the column have None value it doesn't comply with schema\n",
    "    # and thus throw Null Pointer Exception\n",
    "    for i in range(len(output)):\n",
    "        if output[i] is None:\n",
    "            output[i] = 'Unknown'\n",
    "    return output\n",
    "\n",
    "\n",
    "# Our schema of parsing outcome - pyspark udf\n",
    "ua_parser_udf = F.udf(lambda z: parse_ua(z), StructType([\n",
    "            StructField(\"device_model\", StringType(), False),\n",
    "            StructField(\"os_family\", StringType(), False),\n",
    "            StructField(\"browser_family\", StringType(), False),\n",
    "            StructField(\"is_mobile_or_tablet\", BooleanType(), False),\n",
    "        ])) "
   ]
  },
  {
   "cell_type": "code",
   "execution_count": 28,
   "metadata": {},
   "outputs": [
    {
     "data": {
      "application/vnd.jupyter.widget-view+json": {
       "model_id": "2bc99d3cc84541139ee94ee04f85420e",
       "version_major": 2,
       "version_minor": 0
      },
      "text/plain": [
       "VBox()"
      ]
     },
     "metadata": {},
     "output_type": "display_data"
    },
    {
     "data": {
      "application/vnd.jupyter.widget-view+json": {
       "model_id": "",
       "version_major": 2,
       "version_minor": 0
      },
      "text/plain": [
       "FloatProgress(value=0.0, bar_style='info', description='Progress:', layout=Layout(height='25px', width='50%'),…"
      ]
     },
     "metadata": {},
     "output_type": "display_data"
    }
   ],
   "source": [
    "parsed_agent = user_agg\\\n",
    "    .select(\"userId\", \"userAgent\")\\\n",
    "    .dropDuplicates()\\\n",
    "    .withColumn('parsed', ua_parser_udf('userAgent'))\\\n",
    "    .select( \n",
    "        \"userId\", \n",
    "        F.col(\"parsed.device_model\").alias(\"deviceModel\"),\n",
    "        F.col(\"parsed.os_family\").alias(\"osFamily\"),\n",
    "        F.col(\"parsed.browser_family\").alias(\"browserFamily\"),\n",
    "        F.col(\"parsed.is_mobile_or_tablet\").alias(\"isMobileOrTablet\"),\n",
    "    )"
   ]
  },
  {
   "cell_type": "code",
   "execution_count": 29,
   "metadata": {},
   "outputs": [
    {
     "data": {
      "application/vnd.jupyter.widget-view+json": {
       "model_id": "bbd1f0fb78a24443a68faba1c3f63573",
       "version_major": 2,
       "version_minor": 0
      },
      "text/plain": [
       "VBox()"
      ]
     },
     "metadata": {},
     "output_type": "display_data"
    },
    {
     "data": {
      "application/vnd.jupyter.widget-view+json": {
       "model_id": "",
       "version_major": 2,
       "version_minor": 0
      },
      "text/plain": [
       "FloatProgress(value=0.0, bar_style='info', description='Progress:', layout=Layout(height='25px', width='50%'),…"
      ]
     },
     "metadata": {},
     "output_type": "display_data"
    },
    {
     "name": "stdout",
     "output_type": "stream",
     "text": [
      "DataFrame[userId: string, deviceModel: string, osFamily: string, browserFamily: string, isMobileOrTablet: boolean]"
     ]
    }
   ],
   "source": [
    "parsed_agent.persist(pyspark.StorageLevel.MEMORY_AND_DISK)"
   ]
  },
  {
   "cell_type": "code",
   "execution_count": 30,
   "metadata": {},
   "outputs": [
    {
     "data": {
      "application/vnd.jupyter.widget-view+json": {
       "model_id": "2a2209618ee6427ca495b941903b5220",
       "version_major": 2,
       "version_minor": 0
      },
      "text/plain": [
       "VBox()"
      ]
     },
     "metadata": {},
     "output_type": "display_data"
    },
    {
     "data": {
      "application/vnd.jupyter.widget-view+json": {
       "model_id": "",
       "version_major": 2,
       "version_minor": 0
      },
      "text/plain": [
       "FloatProgress(value=0.0, bar_style='info', description='Progress:', layout=Layout(height='25px', width='50%'),…"
      ]
     },
     "metadata": {},
     "output_type": "display_data"
    },
    {
     "name": "stdout",
     "output_type": "stream",
     "text": [
      "[Row(userId='1039101', deviceModel='Unknown', osFamily='Windows', browserFamily='Firefox', isMobileOrTablet=False)]"
     ]
    }
   ],
   "source": [
    "parsed_agent.take(1)"
   ]
  },
  {
   "cell_type": "code",
   "execution_count": 31,
   "metadata": {},
   "outputs": [
    {
     "data": {
      "application/vnd.jupyter.widget-view+json": {
       "model_id": "713d1d06f89b4fd98b77e455545d7840",
       "version_major": 2,
       "version_minor": 0
      },
      "text/plain": [
       "VBox()"
      ]
     },
     "metadata": {},
     "output_type": "display_data"
    },
    {
     "data": {
      "application/vnd.jupyter.widget-view+json": {
       "model_id": "",
       "version_major": 2,
       "version_minor": 0
      },
      "text/plain": [
       "FloatProgress(value=0.0, bar_style='info', description='Progress:', layout=Layout(height='25px', width='50%'),…"
      ]
     },
     "metadata": {},
     "output_type": "display_data"
    }
   ],
   "source": [
    "user_agg = user_agg\\\n",
    "    .join(parsed_agent, on='userId')"
   ]
  },
  {
   "cell_type": "markdown",
   "metadata": {},
   "source": [
    "#### Add user behavior trend/slope\n",
    "\n",
    "Aggregate user behavior to day level. `daysSinceFirst` is the nth day of activity since the first observation of the user. We'll restrict the trend to the last week of observed user activity."
   ]
  },
  {
   "cell_type": "code",
   "execution_count": 32,
   "metadata": {},
   "outputs": [
    {
     "data": {
      "application/vnd.jupyter.widget-view+json": {
       "model_id": "958649dadc9e4711a67a4aef5bb7b98a",
       "version_major": 2,
       "version_minor": 0
      },
      "text/plain": [
       "VBox()"
      ]
     },
     "metadata": {},
     "output_type": "display_data"
    },
    {
     "data": {
      "application/vnd.jupyter.widget-view+json": {
       "model_id": "",
       "version_major": 2,
       "version_minor": 0
      },
      "text/plain": [
       "FloatProgress(value=0.0, bar_style='info', description='Progress:', layout=Layout(height='25px', width='50%'),…"
      ]
     },
     "metadata": {},
     "output_type": "display_data"
    },
    {
     "name": "stdout",
     "output_type": "stream",
     "text": [
      "+-------+--------------+---------------+\n",
      "| userId|daysSinceFirst|numInteractions|\n",
      "+-------+--------------+---------------+\n",
      "|1999996|            10|              2|\n",
      "|1999996|            27|             27|\n",
      "|1999996|             3|              2|\n",
      "|1999996|            37|             51|\n",
      "|1999996|            13|              9|\n",
      "|1999996|            26|             65|\n",
      "|1999996|            24|             45|\n",
      "|1999996|            21|            135|\n",
      "|1999996|            22|              5|\n",
      "|1999996|            20|             13|\n",
      "|1999996|            23|            116|\n",
      "|1999996|            56|             11|\n",
      "|1999996|            42|              8|\n",
      "|1999996|            28|             34|\n",
      "|1999996|             0|             18|\n",
      "|1999996|            25|              4|\n",
      "|1999908|            48|            155|\n",
      "|1999908|            41|             20|\n",
      "|1999908|            10|             46|\n",
      "|1999908|            18|            156|\n",
      "+-------+--------------+---------------+\n",
      "only showing top 20 rows"
     ]
    }
   ],
   "source": [
    "user_behavior = df\\\n",
    "    .groupby('userId', 'daysSinceFirst')\\\n",
    "    .agg(F.count('*').alias('numInteractions'))\\\n",
    "    .orderBy('userId', 'daysSinceFirst')\n",
    "\n",
    "user_behavior.orderBy(desc('userId')).show()"
   ]
  },
  {
   "cell_type": "markdown",
   "metadata": {},
   "source": [
    "Define trend line udf"
   ]
  },
  {
   "cell_type": "code",
   "execution_count": 33,
   "metadata": {},
   "outputs": [
    {
     "data": {
      "application/vnd.jupyter.widget-view+json": {
       "model_id": "f54a848e765b49e6af14a4b2603fbc95",
       "version_major": 2,
       "version_minor": 0
      },
      "text/plain": [
       "VBox()"
      ]
     },
     "metadata": {},
     "output_type": "display_data"
    },
    {
     "data": {
      "application/vnd.jupyter.widget-view+json": {
       "model_id": "",
       "version_major": 2,
       "version_minor": 0
      },
      "text/plain": [
       "FloatProgress(value=0.0, bar_style='info', description='Progress:', layout=Layout(height='25px', width='50%'),…"
      ]
     },
     "metadata": {},
     "output_type": "display_data"
    }
   ],
   "source": [
    "# output of the UDF\n",
    "from pyspark.sql.types import DoubleType\n",
    "from pyspark.sql.functions import pandas_udf, PandasUDFType\n",
    "\n",
    "trend_schema = StructType([\n",
    "    StructField(\"userId\", StringType(), False),\n",
    "    StructField(\"slope\", DoubleType(), False),\n",
    "    StructField(\"intercept\", DoubleType(), False)\n",
    "])\n",
    "\n",
    "# define the UDF - expects a dataframe as output, with the schema of the new df following the defined schema\n",
    "@pandas_udf(trend_schema, PandasUDFType.GROUPED_MAP)\n",
    "def fit_trend(pdf):\n",
    "    userId = pdf.userId[0]\n",
    "    day_idx = pdf.daysSinceFirst\n",
    "    num = pdf.numInteractions\n",
    "    \n",
    "    continuous_y = np.zeros(day_idx.max() + 1)\n",
    "    continuous_x = np.arange(0, day_idx.max() + 1)\n",
    "    continuous_y[day_idx] = num\n",
    "    \n",
    "    # cannot fit a without at least 7 days of data\n",
    "    if len(continuous_y) <= 7:\n",
    "        slope, intercept = 0.001, 0.001\n",
    "    else:\n",
    "        slope, intercept = np.polyfit(continuous_x[-7:], continuous_y[-7:], deg=1)\n",
    "    \n",
    "    df = pd.DataFrame([[userId, slope, intercept]], columns=[\"userId\", \"slope\", \"intercept\"])\n",
    "\n",
    "    return df"
   ]
  },
  {
   "cell_type": "code",
   "execution_count": 34,
   "metadata": {},
   "outputs": [
    {
     "data": {
      "application/vnd.jupyter.widget-view+json": {
       "model_id": "35e31a8b256b411d8ba5b0732cfac7e9",
       "version_major": 2,
       "version_minor": 0
      },
      "text/plain": [
       "VBox()"
      ]
     },
     "metadata": {},
     "output_type": "display_data"
    },
    {
     "data": {
      "application/vnd.jupyter.widget-view+json": {
       "model_id": "",
       "version_major": 2,
       "version_minor": 0
      },
      "text/plain": [
       "FloatProgress(value=0.0, bar_style='info', description='Progress:', layout=Layout(height='25px', width='50%'),…"
      ]
     },
     "metadata": {},
     "output_type": "display_data"
    }
   ],
   "source": [
    "user_trend = user_behavior\\\n",
    "    .groupby('userId')\\\n",
    "    .apply(fit_trend)"
   ]
  },
  {
   "cell_type": "code",
   "execution_count": 35,
   "metadata": {},
   "outputs": [
    {
     "data": {
      "application/vnd.jupyter.widget-view+json": {
       "model_id": "d80d64f2fde54bc8b7c972362ded89b7",
       "version_major": 2,
       "version_minor": 0
      },
      "text/plain": [
       "VBox()"
      ]
     },
     "metadata": {},
     "output_type": "display_data"
    },
    {
     "data": {
      "application/vnd.jupyter.widget-view+json": {
       "model_id": "",
       "version_major": 2,
       "version_minor": 0
      },
      "text/plain": [
       "FloatProgress(value=0.0, bar_style='info', description='Progress:', layout=Layout(height='25px', width='50%'),…"
      ]
     },
     "metadata": {},
     "output_type": "display_data"
    },
    {
     "name": "stdout",
     "output_type": "stream",
     "text": [
      "DataFrame[userId: string, slope: double, intercept: double]"
     ]
    }
   ],
   "source": [
    "user_trend.persist(pyspark.StorageLevel.MEMORY_AND_DISK)"
   ]
  },
  {
   "cell_type": "code",
   "execution_count": 36,
   "metadata": {},
   "outputs": [
    {
     "data": {
      "application/vnd.jupyter.widget-view+json": {
       "model_id": "06f1659efc7b4ed7a9fed827c01e11e9",
       "version_major": 2,
       "version_minor": 0
      },
      "text/plain": [
       "VBox()"
      ]
     },
     "metadata": {},
     "output_type": "display_data"
    },
    {
     "data": {
      "application/vnd.jupyter.widget-view+json": {
       "model_id": "",
       "version_major": 2,
       "version_minor": 0
      },
      "text/plain": [
       "FloatProgress(value=0.0, bar_style='info', description='Progress:', layout=Layout(height='25px', width='50%'),…"
      ]
     },
     "metadata": {},
     "output_type": "display_data"
    },
    {
     "name": "stdout",
     "output_type": "stream",
     "text": [
      "+-------+-------------------+-------------------+\n",
      "| userId|              slope|          intercept|\n",
      "+-------+-------------------+-------------------+\n",
      "|1000280|  15.24999999999998| -588.4285714285705|\n",
      "|1002185|   37.2857142857144|-2001.0000000000066|\n",
      "|1017805| 14.678571428571384|-301.07142857142736|\n",
      "|1030587|  24.64285714285716| -1082.714285714286|\n",
      "|1033297| 16.464285714285698| -465.7857142857137|\n",
      "|1057724| 26.285714285714278|-1378.2857142857138|\n",
      "|1059049|0.10714285714285739| -3.500000000000009|\n",
      "|1069552| 2.3571428571428417| -120.9285714285706|\n",
      "|1071308|-1.3571428571428612|  92.71428571428588|\n",
      "|1076191| 0.6428571428571428| -2.357142857142855|\n",
      "|1083324|  16.46428571428572| -895.8571428571433|\n",
      "|1102913|0.10714285714285637| -5.535714285714246|\n",
      "|1114507|-10.285714285714263|  609.7142857142844|\n",
      "|1133196|  9.892857142857135| -424.7142857142853|\n",
      "|1142513| 13.142857142857078| -688.4285714285677|\n",
      "|1151194| 32.285714285714185| -1666.428571428565|\n",
      "|1156065|  2.071428571428571| -17.78571428571429|\n",
      "|1178731| 24.464285714285662|-1303.3214285714255|\n",
      "|1180406|  5.892857142857102|-304.46428571428356|\n",
      "|1190352| 18.499999999999872| -887.2857142857071|\n",
      "+-------+-------------------+-------------------+\n",
      "only showing top 20 rows"
     ]
    }
   ],
   "source": [
    "user_trend.show()"
   ]
  },
  {
   "cell_type": "code",
   "execution_count": 37,
   "metadata": {},
   "outputs": [
    {
     "data": {
      "application/vnd.jupyter.widget-view+json": {
       "model_id": "5c2b9862ce744bae81a06b66a122bb6f",
       "version_major": 2,
       "version_minor": 0
      },
      "text/plain": [
       "VBox()"
      ]
     },
     "metadata": {},
     "output_type": "display_data"
    },
    {
     "data": {
      "application/vnd.jupyter.widget-view+json": {
       "model_id": "",
       "version_major": 2,
       "version_minor": 0
      },
      "text/plain": [
       "FloatProgress(value=0.0, bar_style='info', description='Progress:', layout=Layout(height='25px', width='50%'),…"
      ]
     },
     "metadata": {},
     "output_type": "display_data"
    }
   ],
   "source": [
    "user_agg = user_agg\\\n",
    "    .join(user_trend, on='userId')"
   ]
  },
  {
   "cell_type": "code",
   "execution_count": 38,
   "metadata": {},
   "outputs": [
    {
     "data": {
      "application/vnd.jupyter.widget-view+json": {
       "model_id": "a9450dbd648649c18d9f1c2891473bdc",
       "version_major": 2,
       "version_minor": 0
      },
      "text/plain": [
       "VBox()"
      ]
     },
     "metadata": {},
     "output_type": "display_data"
    },
    {
     "data": {
      "application/vnd.jupyter.widget-view+json": {
       "model_id": "",
       "version_major": 2,
       "version_minor": 0
      },
      "text/plain": [
       "FloatProgress(value=0.0, bar_style='info', description='Progress:', layout=Layout(height='25px', width='50%'),…"
      ]
     },
     "metadata": {},
     "output_type": "display_data"
    },
    {
     "name": "stdout",
     "output_type": "stream",
     "text": [
      "[Row(userId='1001725', numUpgrades=1, numDowngrades=0, levelAtStart='free', gender='M', userAgent='\"Mozilla/5.0 (Windows NT 6.1) AppleWebKit/537.36 (KHTML, like Gecko) Chrome/36.0.1985.125 Safari/537.36\"', songsPerDay=14.0, uniqueArtistsPerDay=12.272727272727273, skippedSongRatio=0.17532467532467533, songToActivityRatio=0.8006932409012132, uniqueSongRatio=0.9004329004329005, songsAddedPerDay=0.30303030303030304, friendsAddedPerDay=0.3333333333333333, thumbsUpPerDay=0.8484848484848485, thumbsDownPerDay=0.2727272727272727, thumbsDownRatio=0.24324324324324326, errorsPerDay=0.0, helpVisitsPerDay=0.06060606060606061, advertsPerDay=0.45454545454545453, sessionsPerDay=0.45454545454545453, metroArea='Boise City', state='ID', cancelFlag=0, deviceModel='Unknown', osFamily='Windows', browserFamily='Chrome', isMobileOrTablet=False, slope=7.392857142857158, intercept=-204.53571428571473), Row(userId='1006591', numUpgrades=0, numDowngrades=0, levelAtStart='paid', gender='F', userAgent='Mozilla/5.0 (Macintosh; Intel Mac OS X 10.9; rv:30.0) Gecko/20100101 Firefox/30.0', songsPerDay=7.5, uniqueArtistsPerDay=6.208333333333333, skippedSongRatio=0.20277777777777778, songToActivityRatio=0.8, uniqueSongRatio=0.9194444444444444, songsAddedPerDay=0.3125, friendsAddedPerDay=0.20833333333333334, thumbsUpPerDay=0.5625, thumbsDownPerDay=0.125, thumbsDownRatio=0.18181818181818182, errorsPerDay=0.0, helpVisitsPerDay=0.041666666666666664, advertsPerDay=0.0, sessionsPerDay=0.2708333333333333, metroArea='Palatka', state='FL', cancelFlag=0, deviceModel='Mac', osFamily='Mac OS X', browserFamily='Firefox', isMobileOrTablet=False, slope=10.499999999999968, intercept=-445.4285714285698)]"
     ]
    }
   ],
   "source": [
    "user_agg.persist()\n",
    "user_agg.take(2)"
   ]
  },
  {
   "cell_type": "markdown",
   "metadata": {},
   "source": [
    "Unpersist frames we don't need anymore to free memory."
   ]
  },
  {
   "cell_type": "code",
   "execution_count": 39,
   "metadata": {},
   "outputs": [
    {
     "data": {
      "application/vnd.jupyter.widget-view+json": {
       "model_id": "38d0a928ad034b5e9394ed48f2eb03af",
       "version_major": 2,
       "version_minor": 0
      },
      "text/plain": [
       "VBox()"
      ]
     },
     "metadata": {},
     "output_type": "display_data"
    },
    {
     "data": {
      "application/vnd.jupyter.widget-view+json": {
       "model_id": "",
       "version_major": 2,
       "version_minor": 0
      },
      "text/plain": [
       "FloatProgress(value=0.0, bar_style='info', description='Progress:', layout=Layout(height='25px', width='50%'),…"
      ]
     },
     "metadata": {},
     "output_type": "display_data"
    },
    {
     "name": "stdout",
     "output_type": "stream",
     "text": [
      "DataFrame[userId: string, userCancelPhase: int, cancelFlag: int]"
     ]
    }
   ],
   "source": [
    "df.unpersist()\n",
    "parsed_agent.unpersist()\n",
    "user_trend.unpersist()\n",
    "cancellers.unpersist()"
   ]
  },
  {
   "cell_type": "code",
   "execution_count": 40,
   "metadata": {
    "scrolled": true
   },
   "outputs": [
    {
     "data": {
      "application/vnd.jupyter.widget-view+json": {
       "model_id": "3a823ec23bec411ea2a525e7248c638e",
       "version_major": 2,
       "version_minor": 0
      },
      "text/plain": [
       "VBox()"
      ]
     },
     "metadata": {},
     "output_type": "display_data"
    },
    {
     "data": {
      "application/vnd.jupyter.widget-view+json": {
       "model_id": "",
       "version_major": 2,
       "version_minor": 0
      },
      "text/plain": [
       "FloatProgress(value=0.0, bar_style='info', description='Progress:', layout=Layout(height='25px', width='50%'),…"
      ]
     },
     "metadata": {},
     "output_type": "display_data"
    }
   ],
   "source": [
    "nulls = check_nulls(user_agg)"
   ]
  },
  {
   "cell_type": "code",
   "execution_count": 41,
   "metadata": {},
   "outputs": [
    {
     "data": {
      "application/vnd.jupyter.widget-view+json": {
       "model_id": "f21370da650a4cab9ee5bfc76886b1c2",
       "version_major": 2,
       "version_minor": 0
      },
      "text/plain": [
       "VBox()"
      ]
     },
     "metadata": {},
     "output_type": "display_data"
    },
    {
     "data": {
      "application/vnd.jupyter.widget-view+json": {
       "model_id": "",
       "version_major": 2,
       "version_minor": 0
      },
      "text/plain": [
       "FloatProgress(value=0.0, bar_style='info', description='Progress:', layout=Layout(height='25px', width='50%'),…"
      ]
     },
     "metadata": {},
     "output_type": "display_data"
    },
    {
     "name": "stdout",
     "output_type": "stream",
     "text": [
      "{'userId': 0, 'numUpgrades': 0, 'numDowngrades': 0, 'levelAtStart': 0, 'gender': 0, 'userAgent': 0, 'songsPerDay': 16, 'uniqueArtistsPerDay': 16, 'skippedSongRatio': 16, 'songToActivityRatio': 0, 'uniqueSongRatio': 16, 'songsAddedPerDay': 16, 'friendsAddedPerDay': 16, 'thumbsUpPerDay': 16, 'thumbsDownPerDay': 16, 'thumbsDownRatio': 408, 'errorsPerDay': 16, 'helpVisitsPerDay': 16, 'advertsPerDay': 16, 'sessionsPerDay': 16, 'metroArea': 0, 'state': 0, 'cancelFlag': 0, 'deviceModel': 0, 'osFamily': 0, 'browserFamily': 0, 'slope': 0, 'intercept': 0}"
     ]
    }
   ],
   "source": [
    "null_cols = [k for k,v in nulls.items() if v > 0]\n",
    "nulls"
   ]
  },
  {
   "cell_type": "code",
   "execution_count": 42,
   "metadata": {},
   "outputs": [
    {
     "data": {
      "application/vnd.jupyter.widget-view+json": {
       "model_id": "dfe8008606b24cb993e20539724e4d59",
       "version_major": 2,
       "version_minor": 0
      },
      "text/plain": [
       "VBox()"
      ]
     },
     "metadata": {},
     "output_type": "display_data"
    },
    {
     "data": {
      "application/vnd.jupyter.widget-view+json": {
       "model_id": "",
       "version_major": 2,
       "version_minor": 0
      },
      "text/plain": [
       "FloatProgress(value=0.0, bar_style='info', description='Progress:', layout=Layout(height='25px', width='50%'),…"
      ]
     },
     "metadata": {},
     "output_type": "display_data"
    },
    {
     "name": "stdout",
     "output_type": "stream",
     "text": [
      "root\n",
      " |-- userId: string (nullable = true)\n",
      " |-- numUpgrades: long (nullable = true)\n",
      " |-- numDowngrades: long (nullable = true)\n",
      " |-- levelAtStart: string (nullable = true)\n",
      " |-- gender: string (nullable = true)\n",
      " |-- userAgent: string (nullable = true)\n",
      " |-- songsPerDay: double (nullable = true)\n",
      " |-- uniqueArtistsPerDay: double (nullable = true)\n",
      " |-- skippedSongRatio: double (nullable = true)\n",
      " |-- songToActivityRatio: double (nullable = true)\n",
      " |-- uniqueSongRatio: double (nullable = true)\n",
      " |-- songsAddedPerDay: double (nullable = true)\n",
      " |-- friendsAddedPerDay: double (nullable = true)\n",
      " |-- thumbsUpPerDay: double (nullable = true)\n",
      " |-- thumbsDownPerDay: double (nullable = true)\n",
      " |-- thumbsDownRatio: double (nullable = true)\n",
      " |-- errorsPerDay: double (nullable = true)\n",
      " |-- helpVisitsPerDay: double (nullable = true)\n",
      " |-- advertsPerDay: double (nullable = true)\n",
      " |-- sessionsPerDay: double (nullable = true)\n",
      " |-- metroArea: string (nullable = true)\n",
      " |-- state: string (nullable = true)\n",
      " |-- cancelFlag: integer (nullable = true)\n",
      " |-- deviceModel: string (nullable = true)\n",
      " |-- osFamily: string (nullable = true)\n",
      " |-- browserFamily: string (nullable = true)\n",
      " |-- isMobileOrTablet: boolean (nullable = true)\n",
      " |-- slope: double (nullable = false)\n",
      " |-- intercept: double (nullable = false)"
     ]
    }
   ],
   "source": [
    "user_agg.printSchema()"
   ]
  },
  {
   "cell_type": "code",
   "execution_count": 43,
   "metadata": {},
   "outputs": [
    {
     "data": {
      "application/vnd.jupyter.widget-view+json": {
       "model_id": "6ec9c907f5024e2894701eb474ad883c",
       "version_major": 2,
       "version_minor": 0
      },
      "text/plain": [
       "VBox()"
      ]
     },
     "metadata": {},
     "output_type": "display_data"
    },
    {
     "data": {
      "application/vnd.jupyter.widget-view+json": {
       "model_id": "",
       "version_major": 2,
       "version_minor": 0
      },
      "text/plain": [
       "FloatProgress(value=0.0, bar_style='info', description='Progress:', layout=Layout(height='25px', width='50%'),…"
      ]
     },
     "metadata": {},
     "output_type": "display_data"
    }
   ],
   "source": [
    "# to impute, column datatype must be Double\n",
    "for c in null_cols:\n",
    "    user_agg = user_agg.withColumn(c, col(c).cast('double'))\n",
    "    \n",
    "# we will treat bool values as categorical and encode them - thus, cast them to string\n",
    "for c, d in user_agg.dtypes:\n",
    "    if d == 'boolean':\n",
    "        user_agg = user_agg.withColumn(c, col(c).cast('string'))"
   ]
  },
  {
   "cell_type": "code",
   "execution_count": 44,
   "metadata": {},
   "outputs": [
    {
     "data": {
      "application/vnd.jupyter.widget-view+json": {
       "model_id": "f416b6f6a530460aaf2be1bf1359c148",
       "version_major": 2,
       "version_minor": 0
      },
      "text/plain": [
       "VBox()"
      ]
     },
     "metadata": {},
     "output_type": "display_data"
    },
    {
     "data": {
      "application/vnd.jupyter.widget-view+json": {
       "model_id": "",
       "version_major": 2,
       "version_minor": 0
      },
      "text/plain": [
       "FloatProgress(value=0.0, bar_style='info', description='Progress:', layout=Layout(height='25px', width='50%'),…"
      ]
     },
     "metadata": {},
     "output_type": "display_data"
    },
    {
     "name": "stdout",
     "output_type": "stream",
     "text": [
      "[Row(userId='1001725', numUpgrades=1, numDowngrades=0, levelAtStart='free', gender='M', songsPerDay=14.0, uniqueArtistsPerDay=12.272727272727273, skippedSongRatio=0.17532467532467533, songToActivityRatio=0.8006932409012132, uniqueSongRatio=0.9004329004329005, songsAddedPerDay=0.30303030303030304, friendsAddedPerDay=0.3333333333333333, thumbsUpPerDay=0.8484848484848485, thumbsDownPerDay=0.2727272727272727, thumbsDownRatio=0.24324324324324326, errorsPerDay=0.0, helpVisitsPerDay=0.06060606060606061, advertsPerDay=0.45454545454545453, sessionsPerDay=0.45454545454545453, cancelFlag=0, deviceModel='Unknown', osFamily='Windows', browserFamily='Chrome', isMobileOrTablet='false', slope=7.392857142857158, intercept=-204.53571428571473)]"
     ]
    }
   ],
   "source": [
    "final_dataset = user_agg.drop('userAgent', 'metroArea', 'state')\n",
    "final_dataset.persist()\n",
    "final_dataset.take(1)"
   ]
  },
  {
   "cell_type": "markdown",
   "metadata": {},
   "source": [
    "# Modeling\n",
    "\n",
    "Here we'll be:\n",
    " - Splitting into train and test\n",
    " - Transforming features in a pipeline\n",
    "     - One Hot Encoding categorical columns\n",
    "     - Fill in NaN values for numeric columns with median imputation\n",
    "     - Scaling all numeric columns\n",
    " - Fitting a few models and tuning hyper parameters\n",
    " - Evaluating our models"
   ]
  },
  {
   "cell_type": "code",
   "execution_count": 45,
   "metadata": {},
   "outputs": [
    {
     "data": {
      "application/vnd.jupyter.widget-view+json": {
       "model_id": "53a638c63c4a49b5895a7a4165ec5f09",
       "version_major": 2,
       "version_minor": 0
      },
      "text/plain": [
       "VBox()"
      ]
     },
     "metadata": {},
     "output_type": "display_data"
    },
    {
     "data": {
      "application/vnd.jupyter.widget-view+json": {
       "model_id": "",
       "version_major": 2,
       "version_minor": 0
      },
      "text/plain": [
       "FloatProgress(value=0.0, bar_style='info', description='Progress:', layout=Layout(height='25px', width='50%'),…"
      ]
     },
     "metadata": {},
     "output_type": "display_data"
    }
   ],
   "source": [
    "SEED = 42\n",
    "(trainingData, testData) = final_dataset.randomSplit([0.75, 0.25], seed=SEED)"
   ]
  },
  {
   "cell_type": "markdown",
   "metadata": {},
   "source": [
    "#### String Index and One Hot Encode categorical columns\n",
    "\n",
    "In this stage we will be transforming our categorical columns into something usable by machine learning algorithms. Some machine learning algorithms in scikit-learn, such as RandomForestClassifier, happily take categorical features as-is. \n",
    "However, in PySpark we must use a VectorAssembler to prep our features for model training. The Assembler will complain if we try to feed it string values.\n",
    "\n",
    "Briefly, here is the idea behind what we're about to do. <br>\n",
    "If there are `n` unique categories in our column, StringIndexing returns numbers ranging from 0 to `n - 1` for each string, ordered by decreasing occurrence of the string value. \n",
    "This alone would be enough to allow our categorical features to play with VectorAssembler; after all, we've transformed strings into numbers. There is a trap here though in the fact that our model will see this feature as having inherent ordering. If our categories are in fact not ordered then this will be a problem.\n",
    "\n",
    "We solve this by One Hot Encoding our transformed categorical columns.\n",
    "In short, OHE creates a new binary flag column for each unique value in the categorical column.\n",
    "<br> Beware! For fields with high cardinality (many unique values), this will force creation of many new columns.\n",
    "\n",
    "For our dataset this shouldn't pose an issue. Most of our categorical features are low cardinality and we already grouped the `state` and `metroArea` fields in preparation for our transformations.\n",
    "\n",
    "\n",
    "At this point we are defining the stages of our Pipeline - the actual transformation will take place later."
   ]
  },
  {
   "cell_type": "code",
   "execution_count": 46,
   "metadata": {},
   "outputs": [
    {
     "data": {
      "application/vnd.jupyter.widget-view+json": {
       "model_id": "0e2a200ab556478aa46a014aace060c6",
       "version_major": 2,
       "version_minor": 0
      },
      "text/plain": [
       "VBox()"
      ]
     },
     "metadata": {},
     "output_type": "display_data"
    },
    {
     "data": {
      "application/vnd.jupyter.widget-view+json": {
       "model_id": "",
       "version_major": 2,
       "version_minor": 0
      },
      "text/plain": [
       "FloatProgress(value=0.0, bar_style='info', description='Progress:', layout=Layout(height='25px', width='50%'),…"
      ]
     },
     "metadata": {},
     "output_type": "display_data"
    },
    {
     "name": "stdout",
     "output_type": "stream",
     "text": [
      "['levelAtStart', 'gender', 'deviceModel', 'osFamily', 'browserFamily', 'isMobileOrTablet']"
     ]
    }
   ],
   "source": [
    "encode_cols = [c for c,d in final_dataset.dtypes if d == \"string\" and c != \"userId\"]\n",
    "encode_cols"
   ]
  },
  {
   "cell_type": "code",
   "execution_count": 47,
   "metadata": {},
   "outputs": [
    {
     "data": {
      "application/vnd.jupyter.widget-view+json": {
       "model_id": "d532b61e083647c6a0379c65e246f513",
       "version_major": 2,
       "version_minor": 0
      },
      "text/plain": [
       "VBox()"
      ]
     },
     "metadata": {},
     "output_type": "display_data"
    },
    {
     "data": {
      "application/vnd.jupyter.widget-view+json": {
       "model_id": "",
       "version_major": 2,
       "version_minor": 0
      },
      "text/plain": [
       "FloatProgress(value=0.0, bar_style='info', description='Progress:', layout=Layout(height='25px', width='50%'),…"
      ]
     },
     "metadata": {},
     "output_type": "display_data"
    }
   ],
   "source": [
    "encode_stages = []\n",
    "for name in encode_cols:\n",
    "    strIndexer = StringIndexer(inputCol=name, outputCol=f\"{name}_Idx\")\n",
    "    oneHotEncoder = OneHotEncoderEstimator(\n",
    "        inputCols=[f\"{name}_Idx\"],\n",
    "        outputCols=[f\"{name}_vec\"]\n",
    "    )\n",
    "    encode_stages += [strIndexer, oneHotEncoder]"
   ]
  },
  {
   "cell_type": "markdown",
   "metadata": {},
   "source": [
    "#### Impute median for all numeric columns with NaNs\n",
    "Using our previously defined list of columns with empty values, we'll create the imputation stage of our pipeline."
   ]
  },
  {
   "cell_type": "code",
   "execution_count": 48,
   "metadata": {},
   "outputs": [
    {
     "data": {
      "application/vnd.jupyter.widget-view+json": {
       "model_id": "6d5ba602b6e6499ab7b10f160eb8627e",
       "version_major": 2,
       "version_minor": 0
      },
      "text/plain": [
       "VBox()"
      ]
     },
     "metadata": {},
     "output_type": "display_data"
    },
    {
     "data": {
      "application/vnd.jupyter.widget-view+json": {
       "model_id": "",
       "version_major": 2,
       "version_minor": 0
      },
      "text/plain": [
       "FloatProgress(value=0.0, bar_style='info', description='Progress:', layout=Layout(height='25px', width='50%'),…"
      ]
     },
     "metadata": {},
     "output_type": "display_data"
    }
   ],
   "source": [
    "imputer = Imputer(inputCols=null_cols, outputCols = [f\"{c}_Impute\" for c in null_cols], strategy=\"median\")"
   ]
  },
  {
   "cell_type": "markdown",
   "metadata": {},
   "source": [
    "#### Final transformed features list"
   ]
  },
  {
   "cell_type": "code",
   "execution_count": 49,
   "metadata": {},
   "outputs": [
    {
     "data": {
      "application/vnd.jupyter.widget-view+json": {
       "model_id": "af65a0d51d5949799b88a2160092341f",
       "version_major": 2,
       "version_minor": 0
      },
      "text/plain": [
       "VBox()"
      ]
     },
     "metadata": {},
     "output_type": "display_data"
    },
    {
     "data": {
      "application/vnd.jupyter.widget-view+json": {
       "model_id": "",
       "version_major": 2,
       "version_minor": 0
      },
      "text/plain": [
       "FloatProgress(value=0.0, bar_style='info', description='Progress:', layout=Layout(height='25px', width='50%'),…"
      ]
     },
     "metadata": {},
     "output_type": "display_data"
    },
    {
     "name": "stdout",
     "output_type": "stream",
     "text": [
      "['numUpgrades', 'numDowngrades', 'songToActivityRatio', 'slope', 'intercept', 'levelAtStart_vec', 'gender_vec', 'deviceModel_vec', 'osFamily_vec', 'browserFamily_vec', 'isMobileOrTablet_vec', 'songsPerDay_Impute', 'uniqueArtistsPerDay_Impute', 'skippedSongRatio_Impute', 'uniqueSongRatio_Impute', 'songsAddedPerDay_Impute', 'friendsAddedPerDay_Impute', 'thumbsUpPerDay_Impute', 'thumbsDownPerDay_Impute', 'thumbsDownRatio_Impute', 'errorsPerDay_Impute', 'helpVisitsPerDay_Impute', 'advertsPerDay_Impute', 'sessionsPerDay_Impute']"
     ]
    }
   ],
   "source": [
    "exclude_cols = encode_cols + null_cols + ['userId', 'cancelFlag']\n",
    "feats = [c for c in final_dataset.columns if c not in exclude_cols] + \\\n",
    "    [f'{c}_vec' for c in encode_cols] +\\\n",
    "    [f'{c}_Impute' for c in null_cols]\n",
    "\n",
    "feats"
   ]
  },
  {
   "cell_type": "code",
   "execution_count": 50,
   "metadata": {},
   "outputs": [
    {
     "data": {
      "application/vnd.jupyter.widget-view+json": {
       "model_id": "6c0af9e5066e4d1b97d76a8808b5a5f5",
       "version_major": 2,
       "version_minor": 0
      },
      "text/plain": [
       "VBox()"
      ]
     },
     "metadata": {},
     "output_type": "display_data"
    },
    {
     "data": {
      "application/vnd.jupyter.widget-view+json": {
       "model_id": "",
       "version_major": 2,
       "version_minor": 0
      },
      "text/plain": [
       "FloatProgress(value=0.0, bar_style='info', description='Progress:', layout=Layout(height='25px', width='50%'),…"
      ]
     },
     "metadata": {},
     "output_type": "display_data"
    },
    {
     "name": "stdout",
     "output_type": "stream",
     "text": [
      "[StringIndexer_585094466080, OneHotEncoderEstimator_9e704bf9c42e, StringIndexer_caba29f9bb3d, OneHotEncoderEstimator_77457c833cc3, StringIndexer_820cb41b0dfa, OneHotEncoderEstimator_ece5ff1945f2, StringIndexer_9bca60a4e374, OneHotEncoderEstimator_b16422e1a9f2, StringIndexer_c71956c33da3, OneHotEncoderEstimator_bfc68566765b, StringIndexer_601138203e88, OneHotEncoderEstimator_6de9bf3e1a50, Imputer_5b7cd644583b, VectorAssembler_16ac820b9081]"
     ]
    }
   ],
   "source": [
    "vec_assembler = VectorAssembler(inputCols=feats, outputCol=\"features\")\n",
    "all_stages = encode_stages + [imputer, vec_assembler]\n",
    "all_stages"
   ]
  },
  {
   "cell_type": "markdown",
   "metadata": {},
   "source": [
    "Fit the preprocessing pipeline"
   ]
  },
  {
   "cell_type": "code",
   "execution_count": 51,
   "metadata": {},
   "outputs": [
    {
     "data": {
      "application/vnd.jupyter.widget-view+json": {
       "model_id": "07d69527e63f4887b72e89d35236b265",
       "version_major": 2,
       "version_minor": 0
      },
      "text/plain": [
       "VBox()"
      ]
     },
     "metadata": {},
     "output_type": "display_data"
    },
    {
     "data": {
      "application/vnd.jupyter.widget-view+json": {
       "model_id": "",
       "version_major": 2,
       "version_minor": 0
      },
      "text/plain": [
       "FloatProgress(value=0.0, bar_style='info', description='Progress:', layout=Layout(height='25px', width='50%'),…"
      ]
     },
     "metadata": {},
     "output_type": "display_data"
    }
   ],
   "source": [
    "pipe_model = Pipeline(stages=all_stages).fit(trainingData)"
   ]
  },
  {
   "cell_type": "code",
   "execution_count": 52,
   "metadata": {},
   "outputs": [
    {
     "data": {
      "application/vnd.jupyter.widget-view+json": {
       "model_id": "bb7adaf7692a4f16bb4cf4dfcfee4d81",
       "version_major": 2,
       "version_minor": 0
      },
      "text/plain": [
       "VBox()"
      ]
     },
     "metadata": {},
     "output_type": "display_data"
    },
    {
     "data": {
      "application/vnd.jupyter.widget-view+json": {
       "model_id": "",
       "version_major": 2,
       "version_minor": 0
      },
      "text/plain": [
       "FloatProgress(value=0.0, bar_style='info', description='Progress:', layout=Layout(height='25px', width='50%'),…"
      ]
     },
     "metadata": {},
     "output_type": "display_data"
    },
    {
     "name": "stdout",
     "output_type": "stream",
     "text": [
      "[Row(userId='1006591', numUpgrades=0, numDowngrades=0, levelAtStart='paid', gender='F', songsPerDay=7.5, uniqueArtistsPerDay=6.208333333333333, skippedSongRatio=0.20277777777777778, songToActivityRatio=0.8, uniqueSongRatio=0.9194444444444444, songsAddedPerDay=0.3125, friendsAddedPerDay=0.20833333333333334, thumbsUpPerDay=0.5625, thumbsDownPerDay=0.125, thumbsDownRatio=0.18181818181818182, errorsPerDay=0.0, helpVisitsPerDay=0.041666666666666664, advertsPerDay=0.0, sessionsPerDay=0.2708333333333333, cancelFlag=0, deviceModel='Mac', osFamily='Mac OS X', browserFamily='Firefox', isMobileOrTablet='false', slope=10.499999999999968, intercept=-445.4285714285698, levelAtStart_Idx=0.0, levelAtStart_vec=SparseVector(1, {0: 1.0}), gender_Idx=1.0, gender_vec=SparseVector(1, {}), deviceModel_Idx=1.0, deviceModel_vec=SparseVector(3, {1: 1.0}), osFamily_Idx=1.0, osFamily_vec=SparseVector(4, {1: 1.0}), browserFamily_Idx=1.0, browserFamily_vec=SparseVector(6, {1: 1.0}), isMobileOrTablet_Idx=0.0, isMobileOrTablet_vec=SparseVector(1, {0: 1.0}), songsAddedPerDay_Impute=0.3125, thumbsDownPerDay_Impute=0.125, thumbsUpPerDay_Impute=0.5625, sessionsPerDay_Impute=0.2708333333333333, skippedSongRatio_Impute=0.20277777777777778, friendsAddedPerDay_Impute=0.20833333333333334, errorsPerDay_Impute=0.0, uniqueSongRatio_Impute=0.9194444444444444, advertsPerDay_Impute=0.0, uniqueArtistsPerDay_Impute=6.208333333333333, helpVisitsPerDay_Impute=0.041666666666666664, songsPerDay_Impute=7.5, thumbsDownRatio_Impute=0.18181818181818182, features=SparseVector(34, {2: 0.8, 3: 10.5, 4: -445.4286, 5: 1.0, 8: 1.0, 11: 1.0, 15: 1.0, 20: 1.0, 21: 7.5, 22: 6.2083, 23: 0.2028, 24: 0.9194, 25: 0.3125, 26: 0.2083, 27: 0.5625, 28: 0.125, 29: 0.1818, 31: 0.0417, 33: 0.2708}))]"
     ]
    }
   ],
   "source": [
    "trainingTransformed = pipe_model.transform(trainingData)\n",
    "testTransformed = pipe_model.transform(testData)\n",
    "trainingTransformed.persist()\n",
    "trainingTransformed.take(1)\n",
    "testTransformed.persist()\n",
    "testTransformed.take(1)"
   ]
  },
  {
   "cell_type": "code",
   "execution_count": 53,
   "metadata": {},
   "outputs": [
    {
     "data": {
      "application/vnd.jupyter.widget-view+json": {
       "model_id": "6998813fd2e94590a27f5b4fcc2e597f",
       "version_major": 2,
       "version_minor": 0
      },
      "text/plain": [
       "VBox()"
      ]
     },
     "metadata": {},
     "output_type": "display_data"
    },
    {
     "data": {
      "application/vnd.jupyter.widget-view+json": {
       "model_id": "",
       "version_major": 2,
       "version_minor": 0
      },
      "text/plain": [
       "FloatProgress(value=0.0, bar_style='info', description='Progress:', layout=Layout(height='25px', width='50%'),…"
      ]
     },
     "metadata": {},
     "output_type": "display_data"
    }
   ],
   "source": [
    "rf = RandomForestClassifier(labelCol=\"cancelFlag\",\n",
    "                            featuresCol=\"features\", \n",
    "                            maxDepth=10, \n",
    "                            numTrees=100, \n",
    "                            seed=SEED)"
   ]
  },
  {
   "cell_type": "code",
   "execution_count": 54,
   "metadata": {},
   "outputs": [
    {
     "data": {
      "application/vnd.jupyter.widget-view+json": {
       "model_id": "523f010e3cb149178378c0173a18aab7",
       "version_major": 2,
       "version_minor": 0
      },
      "text/plain": [
       "VBox()"
      ]
     },
     "metadata": {},
     "output_type": "display_data"
    },
    {
     "data": {
      "application/vnd.jupyter.widget-view+json": {
       "model_id": "",
       "version_major": 2,
       "version_minor": 0
      },
      "text/plain": [
       "FloatProgress(value=0.0, bar_style='info', description='Progress:', layout=Layout(height='25px', width='50%'),…"
      ]
     },
     "metadata": {},
     "output_type": "display_data"
    }
   ],
   "source": [
    "model = rf.fit(trainingTransformed)\n",
    "transformed = model.transform(trainingTransformed)"
   ]
  },
  {
   "cell_type": "markdown",
   "metadata": {},
   "source": [
    "Examine feature importance"
   ]
  },
  {
   "cell_type": "code",
   "execution_count": 55,
   "metadata": {},
   "outputs": [
    {
     "data": {
      "application/vnd.jupyter.widget-view+json": {
       "model_id": "3062448cb43d4710af586afb49bb756a",
       "version_major": 2,
       "version_minor": 0
      },
      "text/plain": [
       "VBox()"
      ]
     },
     "metadata": {},
     "output_type": "display_data"
    },
    {
     "data": {
      "application/vnd.jupyter.widget-view+json": {
       "model_id": "",
       "version_major": 2,
       "version_minor": 0
      },
      "text/plain": [
       "FloatProgress(value=0.0, bar_style='info', description='Progress:', layout=Layout(height='25px', width='50%'),…"
      ]
     },
     "metadata": {},
     "output_type": "display_data"
    }
   ],
   "source": [
    "def ExtractFeatureImp(featureImp, dataset, featuresCol):\n",
    "    \"\"\"Extract feature importance from RandomForest\n",
    "        Args: \n",
    "            featureImp (model.featureImportances): feature importances from PySpark model\n",
    "            dataset (PySpark dataframe)\n",
    "            featuresCol (string): name of featuresCol\n",
    "        Returns \n",
    "            varslist (pandas dataframe): sorted dataframe of variable name and importance\n",
    "            \n",
    "    \"\"\"\n",
    "    list_extract = []\n",
    "    for i in dataset.schema[featuresCol].metadata[\"ml_attr\"][\"attrs\"]:\n",
    "        list_extract = list_extract + dataset.schema[featuresCol].metadata[\"ml_attr\"][\"attrs\"][i]\n",
    "    varlist = pd.DataFrame(list_extract)\n",
    "    varlist['score'] = varlist['idx'].apply(lambda x: featureImp[x])\n",
    "    return(varlist.sort_values('score', ascending = False))"
   ]
  },
  {
   "cell_type": "code",
   "execution_count": 56,
   "metadata": {
    "scrolled": false
   },
   "outputs": [
    {
     "data": {
      "application/vnd.jupyter.widget-view+json": {
       "model_id": "c9ef735dbfdf484e9a973af05ade2ae9",
       "version_major": 2,
       "version_minor": 0
      },
      "text/plain": [
       "VBox()"
      ]
     },
     "metadata": {},
     "output_type": "display_data"
    },
    {
     "data": {
      "application/vnd.jupyter.widget-view+json": {
       "model_id": "",
       "version_major": 2,
       "version_minor": 0
      },
      "text/plain": [
       "FloatProgress(value=0.0, bar_style='info', description='Progress:', layout=Layout(height='25px', width='50%'),…"
      ]
     },
     "metadata": {},
     "output_type": "display_data"
    },
    {
     "name": "stdout",
     "output_type": "stream",
     "text": [
      "    idx                        name     score  cum_score\n",
      "16   32        advertsPerDay_Impute  0.143106   0.143106\n",
      "6    22  uniqueArtistsPerDay_Impute  0.125876   0.268982\n",
      "17   33       sessionsPerDay_Impute  0.080771   0.349754\n",
      "12   28     thumbsDownPerDay_Impute  0.079868   0.429622\n",
      "8    24      uniqueSongRatio_Impute  0.064311   0.493932\n",
      "4     4                   intercept  0.058134   0.552066\n",
      "5    21          songsPerDay_Impute  0.053053   0.605119\n",
      "2     2         songToActivityRatio  0.051102   0.656221\n",
      "10   26   friendsAddedPerDay_Impute  0.046639   0.702860\n",
      "13   29      thumbsDownRatio_Impute  0.044710   0.747569\n",
      "9    25     songsAddedPerDay_Impute  0.039187   0.786756\n",
      "14   30         errorsPerDay_Impute  0.034227   0.820983\n",
      "3     3                       slope  0.030302   0.851286\n",
      "11   27       thumbsUpPerDay_Impute  0.030134   0.881420\n",
      "15   31     helpVisitsPerDay_Impute  0.029743   0.911163\n",
      "7    23     skippedSongRatio_Impute  0.027045   0.938207\n",
      "1     1               numDowngrades  0.012247   0.950454\n",
      "0     0                 numUpgrades  0.011439   0.961893\n",
      "18    5       levelAtStart_vec_paid  0.005411   0.967304\n",
      "19    6                gender_vec_M  0.003855   0.971159\n",
      "28   15   browserFamily_vec_Firefox  0.003639   0.974798\n",
      "27   14    browserFamily_vec_Chrome  0.003462   0.978260\n",
      "23   10        osFamily_vec_Windows  0.002930   0.981190\n",
      "21    8         deviceModel_vec_Mac  0.002682   0.983872\n",
      "24   11       osFamily_vec_Mac OS X  0.002501   0.986373"
     ]
    }
   ],
   "source": [
    "feats = ExtractFeatureImp(model.featureImportances, transformed, \"features\")\n",
    "feats['cum_score'] = feats.score.cumsum()\n",
    "feats.head(25)"
   ]
  },
  {
   "cell_type": "code",
   "execution_count": 57,
   "metadata": {},
   "outputs": [
    {
     "data": {
      "application/vnd.jupyter.widget-view+json": {
       "model_id": "de9c8cdefd5e433e9e1011f607584ad8",
       "version_major": 2,
       "version_minor": 0
      },
      "text/plain": [
       "VBox()"
      ]
     },
     "metadata": {},
     "output_type": "display_data"
    },
    {
     "data": {
      "application/vnd.jupyter.widget-view+json": {
       "model_id": "",
       "version_major": 2,
       "version_minor": 0
      },
      "text/plain": [
       "FloatProgress(value=0.0, bar_style='info', description='Progress:', layout=Layout(height='25px', width='50%'),…"
      ]
     },
     "metadata": {},
     "output_type": "display_data"
    },
    {
     "name": "stdout",
     "output_type": "stream",
     "text": [
      "AUC on Train Set 0.9180030425368996"
     ]
    }
   ],
   "source": [
    "evaluator = BinaryClassificationEvaluator(\n",
    "    labelCol=\"cancelFlag\", \n",
    "    rawPredictionCol=\"rawPrediction\"\n",
    ")\n",
    "\n",
    "print(f\"AUC on Train Set {evaluator.evaluate(transformed)}\")"
   ]
  },
  {
   "cell_type": "markdown",
   "metadata": {},
   "source": [
    "AUC on the training set is 0.91 which is quite high."
   ]
  },
  {
   "cell_type": "code",
   "execution_count": 58,
   "metadata": {},
   "outputs": [
    {
     "data": {
      "application/vnd.jupyter.widget-view+json": {
       "model_id": "6b396d52f76642998a44e76a79f72430",
       "version_major": 2,
       "version_minor": 0
      },
      "text/plain": [
       "VBox()"
      ]
     },
     "metadata": {},
     "output_type": "display_data"
    },
    {
     "data": {
      "application/vnd.jupyter.widget-view+json": {
       "model_id": "",
       "version_major": 2,
       "version_minor": 0
      },
      "text/plain": [
       "FloatProgress(value=0.0, bar_style='info', description='Progress:', layout=Layout(height='25px', width='50%'),…"
      ]
     },
     "metadata": {},
     "output_type": "display_data"
    },
    {
     "name": "stdout",
     "output_type": "stream",
     "text": [
      "AUC on Test Set 0.8470839043703369"
     ]
    }
   ],
   "source": [
    "test_transformed = model.transform(testTransformed)\n",
    "print(f\"AUC on Test Set {evaluator.evaluate(test_transformed)}\")"
   ]
  },
  {
   "cell_type": "markdown",
   "metadata": {},
   "source": [
    "AUC on the test set is 0.85. This is quite good!"
   ]
  },
  {
   "cell_type": "code",
   "execution_count": 59,
   "metadata": {},
   "outputs": [
    {
     "data": {
      "application/vnd.jupyter.widget-view+json": {
       "model_id": "bf8f094fc20d4633bef512d10d13a750",
       "version_major": 2,
       "version_minor": 0
      },
      "text/plain": [
       "VBox()"
      ]
     },
     "metadata": {},
     "output_type": "display_data"
    },
    {
     "data": {
      "application/vnd.jupyter.widget-view+json": {
       "model_id": "",
       "version_major": 2,
       "version_minor": 0
      },
      "text/plain": [
       "FloatProgress(value=0.0, bar_style='info', description='Progress:', layout=Layout(height='25px', width='50%'),…"
      ]
     },
     "metadata": {},
     "output_type": "display_data"
    },
    {
     "name": "stdout",
     "output_type": "stream",
     "text": [
      "AUC on Train Set 0.8834504739440706\n",
      "AUC on Test Set 0.8579246611847112\n",
      "    idx                             name     score  cum_score\n",
      "4     4                        intercept  0.170356   0.170356\n",
      "3     3                            slope  0.168904   0.339260\n",
      "6    22       uniqueArtistsPerDay_Impute  0.120682   0.459942\n",
      "16   32             advertsPerDay_Impute  0.072849   0.532791\n",
      "8    24           uniqueSongRatio_Impute  0.072532   0.605323\n",
      "14   30              errorsPerDay_Impute  0.062012   0.667335\n",
      "2     2              songToActivityRatio  0.058119   0.725454\n",
      "11   27            thumbsUpPerDay_Impute  0.052553   0.778006\n",
      "17   33            sessionsPerDay_Impute  0.042264   0.820270\n",
      "5    21               songsPerDay_Impute  0.028531   0.848801\n",
      "18    5            levelAtStart_vec_paid  0.024934   0.873735\n",
      "15   31          helpVisitsPerDay_Impute  0.024665   0.898400\n",
      "0     0                      numUpgrades  0.019563   0.917963\n",
      "12   28          thumbsDownPerDay_Impute  0.018820   0.936783\n",
      "7    23          skippedSongRatio_Impute  0.014438   0.951220\n",
      "1     1                    numDowngrades  0.014228   0.965448\n",
      "9    25          songsAddedPerDay_Impute  0.013709   0.979157\n",
      "13   29           thumbsDownRatio_Impute  0.011788   0.990945\n",
      "10   26        friendsAddedPerDay_Impute  0.006541   0.997486\n",
      "21    8              deviceModel_vec_Mac  0.001473   0.998959\n",
      "26   13               osFamily_vec_Linux  0.001041   1.000000\n",
      "27   14         browserFamily_vec_Chrome  0.000000   1.000000\n",
      "32   19       browserFamily_vec_Chromium  0.000000   1.000000\n",
      "31   18  browserFamily_vec_Mobile Safari  0.000000   1.000000\n",
      "30   17             browserFamily_vec_IE  0.000000   1.000000"
     ]
    }
   ],
   "source": [
    "from pyspark.ml.classification import GBTClassifier\n",
    "gbt = GBTClassifier(labelCol=\"cancelFlag\", \n",
    "                    featuresCol=\"features\", \n",
    "                    maxDepth=4,\n",
    "                    maxIter=20,\n",
    "                    seed=SEED)\n",
    "gbt_model = gbt.fit(trainingTransformed)\n",
    "gbt_transformed = gbt_model.transform(trainingTransformed)\n",
    "print(f\"AUC on Train Set {evaluator.evaluate(gbt_transformed)}\")\n",
    "gbt_test = gbt_model.transform(testTransformed)\n",
    "print(f\"AUC on Test Set {evaluator.evaluate(gbt_test)}\")\n",
    "feats = ExtractFeatureImp(gbt_model.featureImportances, gbt_transformed, \"features\")\n",
    "feats['cum_score'] = feats.score.cumsum()\n",
    "feats.head(25)"
   ]
  },
  {
   "cell_type": "code",
   "execution_count": 60,
   "metadata": {},
   "outputs": [
    {
     "data": {
      "application/vnd.jupyter.widget-view+json": {
       "model_id": "842adb2d3c8b41509fe3497f538374c8",
       "version_major": 2,
       "version_minor": 0
      },
      "text/plain": [
       "VBox()"
      ]
     },
     "metadata": {},
     "output_type": "display_data"
    },
    {
     "data": {
      "application/vnd.jupyter.widget-view+json": {
       "model_id": "",
       "version_major": 2,
       "version_minor": 0
      },
      "text/plain": [
       "FloatProgress(value=0.0, bar_style='info', description='Progress:', layout=Layout(height='25px', width='50%'),…"
      ]
     },
     "metadata": {},
     "output_type": "display_data"
    },
    {
     "name": "stderr",
     "output_type": "stream",
     "text": [
      "Exception in thread cell_monitor-60:\n",
      "Traceback (most recent call last):\n",
      "  File \"/opt/conda/lib/python3.7/threading.py\", line 917, in _bootstrap_inner\n",
      "    self.run()\n",
      "  File \"/opt/conda/lib/python3.7/threading.py\", line 865, in run\n",
      "    self._target(*self._args, **self._kwargs)\n",
      "  File \"/opt/conda/lib/python3.7/site-packages/awseditorssparkmonitoringwidget-1.0-py3.7.egg/awseditorssparkmonitoringwidget/cellmonitor.py\", line 178, in cell_monitor\n",
      "    job_binned_stages[job_id][stage_id] = all_stages[stage_id]\n",
      "KeyError: 3493\n",
      "\n"
     ]
    }
   ],
   "source": [
    "aupr_evaluator = BinaryClassificationEvaluator(\n",
    "    labelCol=\"cancelFlag\", \n",
    "    rawPredictionCol=\"rawPrediction\",\n",
    "    metricName=\"areaUnderPR\"\n",
    ")\n",
    "\n",
    "paramGrid = ParamGridBuilder()\\\n",
    "    .addGrid(gbt.maxDepth, [4, 6, 8])\\\n",
    "    .addGrid(gbt.maxIter, [20])\\\n",
    "    .build()\n",
    "\n",
    "cv = CrossValidator(\n",
    "    estimator=gbt, \n",
    "    evaluator=aupr_evaluator, \n",
    "    estimatorParamMaps=paramGrid,\n",
    "    numFolds=3,\n",
    ")\n",
    "\n",
    "cvModel = cv.fit(trainingTransformed)"
   ]
  },
  {
   "cell_type": "code",
   "execution_count": 61,
   "metadata": {},
   "outputs": [
    {
     "data": {
      "application/vnd.jupyter.widget-view+json": {
       "model_id": "41212795bab741afb27485cacb7923ff",
       "version_major": 2,
       "version_minor": 0
      },
      "text/plain": [
       "VBox()"
      ]
     },
     "metadata": {},
     "output_type": "display_data"
    },
    {
     "data": {
      "application/vnd.jupyter.widget-view+json": {
       "model_id": "",
       "version_major": 2,
       "version_minor": 0
      },
      "text/plain": [
       "FloatProgress(value=0.0, bar_style='info', description='Progress:', layout=Layout(height='25px', width='50%'),…"
      ]
     },
     "metadata": {},
     "output_type": "display_data"
    },
    {
     "name": "stdout",
     "output_type": "stream",
     "text": [
      "[(0.7013155626173116, {Param(parent='GBTClassifier_5ad071f8f4b1', name='maxDepth', doc='Maximum depth of the tree. (>= 0) E.g., depth 0 means 1 leaf node; depth 1 means 1 internal node + 2 leaf nodes.'): 4, Param(parent='GBTClassifier_5ad071f8f4b1', name='maxIter', doc='max number of iterations (>= 0).'): 20}), (0.7106374489088237, {Param(parent='GBTClassifier_5ad071f8f4b1', name='maxDepth', doc='Maximum depth of the tree. (>= 0) E.g., depth 0 means 1 leaf node; depth 1 means 1 internal node + 2 leaf nodes.'): 6, Param(parent='GBTClassifier_5ad071f8f4b1', name='maxIter', doc='max number of iterations (>= 0).'): 20}), (0.6874800984542297, {Param(parent='GBTClassifier_5ad071f8f4b1', name='maxDepth', doc='Maximum depth of the tree. (>= 0) E.g., depth 0 means 1 leaf node; depth 1 means 1 internal node + 2 leaf nodes.'): 8, Param(parent='GBTClassifier_5ad071f8f4b1', name='maxIter', doc='max number of iterations (>= 0).'): 20})]"
     ]
    }
   ],
   "source": [
    "list(zip(cvModel.avgMetrics, paramGrid))\\"
   ]
  },
  {
   "cell_type": "code",
   "execution_count": 63,
   "metadata": {},
   "outputs": [
    {
     "data": {
      "application/vnd.jupyter.widget-view+json": {
       "model_id": "88cf32c7eee74b06a00e3ab8ef59b11d",
       "version_major": 2,
       "version_minor": 0
      },
      "text/plain": [
       "VBox()"
      ]
     },
     "metadata": {},
     "output_type": "display_data"
    },
    {
     "data": {
      "application/vnd.jupyter.widget-view+json": {
       "model_id": "",
       "version_major": 2,
       "version_minor": 0
      },
      "text/plain": [
       "FloatProgress(value=0.0, bar_style='info', description='Progress:', layout=Layout(height='25px', width='50%'),…"
      ]
     },
     "metadata": {},
     "output_type": "display_data"
    },
    {
     "name": "stdout",
     "output_type": "stream",
     "text": [
      "   AvgAUCPR  maxDepth  numTrees\n",
      "0  0.701316         4        20\n",
      "1  0.710637         6        20\n",
      "2  0.687480         8        20"
     ]
    }
   ],
   "source": [
    "perf = pd.DataFrame(paramGrid, index=cvModel.avgMetrics).reset_index()\n",
    "perf.columns=['AvgAUCPR', 'maxDepth', 'numTrees']\n",
    "perf"
   ]
  },
  {
   "cell_type": "code",
   "execution_count": 64,
   "metadata": {},
   "outputs": [
    {
     "data": {
      "application/vnd.jupyter.widget-view+json": {
       "model_id": "e9ed4ad543414faab44a26971fdd332f",
       "version_major": 2,
       "version_minor": 0
      },
      "text/plain": [
       "VBox()"
      ]
     },
     "metadata": {},
     "output_type": "display_data"
    },
    {
     "data": {
      "application/vnd.jupyter.widget-view+json": {
       "model_id": "",
       "version_major": 2,
       "version_minor": 0
      },
      "text/plain": [
       "FloatProgress(value=0.0, bar_style='info', description='Progress:', layout=Layout(height='25px', width='50%'),…"
      ]
     },
     "metadata": {},
     "output_type": "display_data"
    }
   ],
   "source": [
    "new_gbt = cvModel.bestModel"
   ]
  },
  {
   "cell_type": "code",
   "execution_count": 65,
   "metadata": {},
   "outputs": [
    {
     "data": {
      "application/vnd.jupyter.widget-view+json": {
       "model_id": "c6c37af46f8d46f7944760f55121ede6",
       "version_major": 2,
       "version_minor": 0
      },
      "text/plain": [
       "VBox()"
      ]
     },
     "metadata": {},
     "output_type": "display_data"
    },
    {
     "data": {
      "application/vnd.jupyter.widget-view+json": {
       "model_id": "",
       "version_major": 2,
       "version_minor": 0
      },
      "text/plain": [
       "FloatProgress(value=0.0, bar_style='info', description='Progress:', layout=Layout(height='25px', width='50%'),…"
      ]
     },
     "metadata": {},
     "output_type": "display_data"
    }
   ],
   "source": [
    "new_train = new_gbt.transform(trainingTransformed)\n",
    "new_test = new_gbt.transform(testTransformed)"
   ]
  },
  {
   "cell_type": "code",
   "execution_count": 66,
   "metadata": {},
   "outputs": [
    {
     "data": {
      "application/vnd.jupyter.widget-view+json": {
       "model_id": "0ee405c0c1bd402a8ea706b9ceda0505",
       "version_major": 2,
       "version_minor": 0
      },
      "text/plain": [
       "VBox()"
      ]
     },
     "metadata": {},
     "output_type": "display_data"
    },
    {
     "data": {
      "application/vnd.jupyter.widget-view+json": {
       "model_id": "",
       "version_major": 2,
       "version_minor": 0
      },
      "text/plain": [
       "FloatProgress(value=0.0, bar_style='info', description='Progress:', layout=Layout(height='25px', width='50%'),…"
      ]
     },
     "metadata": {},
     "output_type": "display_data"
    },
    {
     "name": "stdout",
     "output_type": "stream",
     "text": [
      "0.8189010938850245"
     ]
    }
   ],
   "source": [
    "aupr_evaluator.evaluate(new_train)"
   ]
  },
  {
   "cell_type": "code",
   "execution_count": 67,
   "metadata": {},
   "outputs": [
    {
     "data": {
      "application/vnd.jupyter.widget-view+json": {
       "model_id": "cbb66815b8fc41fd9f4f75ef06e27829",
       "version_major": 2,
       "version_minor": 0
      },
      "text/plain": [
       "VBox()"
      ]
     },
     "metadata": {},
     "output_type": "display_data"
    },
    {
     "data": {
      "application/vnd.jupyter.widget-view+json": {
       "model_id": "",
       "version_major": 2,
       "version_minor": 0
      },
      "text/plain": [
       "FloatProgress(value=0.0, bar_style='info', description='Progress:', layout=Layout(height='25px', width='50%'),…"
      ]
     },
     "metadata": {},
     "output_type": "display_data"
    },
    {
     "name": "stdout",
     "output_type": "stream",
     "text": [
      "0.7063462215408329"
     ]
    }
   ],
   "source": [
    "aupr_evaluator.evaluate(new_test)"
   ]
  },
  {
   "cell_type": "code",
   "execution_count": 69,
   "metadata": {},
   "outputs": [
    {
     "data": {
      "application/vnd.jupyter.widget-view+json": {
       "model_id": "a55d53ed56fa4516b6c70b5df69ae1a4",
       "version_major": 2,
       "version_minor": 0
      },
      "text/plain": [
       "VBox()"
      ]
     },
     "metadata": {},
     "output_type": "display_data"
    },
    {
     "name": "stderr",
     "output_type": "stream",
     "text": [
      "An error was encountered:\n",
      "Invalid status code '404' from https://172.31.37.23:18888/sessions/1 with error payload: {\"msg\":\"Session '1' not found.\"}\n"
     ]
    }
   ],
   "source": [
    "evaluator.evaluate(new_train)"
   ]
  },
  {
   "cell_type": "code",
   "execution_count": null,
   "metadata": {},
   "outputs": [],
   "source": []
  }
 ],
 "metadata": {
  "kernelspec": {
   "display_name": "PySpark",
   "language": "",
   "name": "pysparkkernel"
  },
  "language_info": {
   "codemirror_mode": {
    "name": "python",
    "version": 2
   },
   "mimetype": "text/x-python",
   "name": "pyspark",
   "pygments_lexer": "python2"
  }
 },
 "nbformat": 4,
 "nbformat_minor": 4
}
